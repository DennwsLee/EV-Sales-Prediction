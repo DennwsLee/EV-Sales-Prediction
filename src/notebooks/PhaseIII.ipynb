{
 "cells": [
  {
   "cell_type": "markdown",
   "metadata": {
    "id": "GJ4Xt1uf1LT7"
   },
   "source": [
    "# Final Project Phase 3 Summary\n",
    "This Jupyter Notebook (.ipynb) will serve as the skeleton file for your submission for Phase 3 of the Final Project. Complete all sections below as specified in the instructions for the project, covering all necessary details. We will use this to grade your individual code (Do this whether you are in a group or not). Good luck! <br><br>\n",
    "\n",
    "Note: To edit a Markdown cell, double-click on its text."
   ]
  },
  {
   "cell_type": "markdown",
   "metadata": {
    "id": "JEtNzYHagmon"
   },
   "source": []
  },
  {
   "cell_type": "markdown",
   "metadata": {
    "id": "tjB_SbWY1LUB"
   },
   "source": [
    "## Jupyter Notebook Quick Tips\n",
    "Here are some quick formatting tips to get you started with Jupyter Notebooks. This is by no means exhaustive, and there are plenty of articles to highlight other things that can be done. We recommend using HTML syntax for Markdown but there is also Markdown syntax that is more streamlined and might be preferable. \n",
    "<a href = \"https://towardsdatascience.com/markdown-cells-jupyter-notebook-d3bea8416671\">Here's an article</a> that goes into more detail. (Double-click on cell to see syntax)\n",
    "\n",
    "# Heading 1\n",
    "## Heading 2\n",
    "### Heading 3\n",
    "#### Heading 4\n",
    "<br>\n",
    "<b>BoldText</b> or <i>ItalicText</i>\n",
    "<br> <br>\n",
    "Math Formulas: $x^2 + y^2 = 1$\n",
    "<br> <br>\n",
    "Line Breaks are done using br enclosed in < >.\n",
    "<br><br>\n",
    "Hyperlinks are done with: <a> https://www.google.com </a> or \n",
    "<a href=\"http://www.google.com\">Google</a><br>"
   ]
  },
  {
   "cell_type": "markdown",
   "metadata": {},
   "source": [
    "# Video Presentation\n",
    "\n",
    "If you uploaded your Video Presentation to Bluejeans, YouTube, or any other streaming services, please provide the link here:\n",
    "\n",
    "\n",
    "*   Video Presentation Link\n",
    "\n",
    "\n",
    "Make sure the video sharing permissions are accessible for anyone with the provided link."
   ]
  },
  {
   "cell_type": "markdown",
   "metadata": {
    "id": "tb9oVjpRDswQ"
   },
   "source": [
    "# Data Collection and Cleaning\n",
    "\n",
    "\n",
    "Transfer/update the data collection and cleaning you created for Phase II below. You may include additional cleaning functions if you have extra datasets. If no changes are necessary, simply copy and paste your phase II parsing/cleaning functions.\n"
   ]
  },
  {
   "cell_type": "markdown",
   "metadata": {
    "id": "9mRjxZDbE1tj"
   },
   "source": [
    "## Downloaded Dataset Requirement\n",
    "\n"
   ]
  },
  {
   "cell_type": "code",
   "execution_count": 1,
   "metadata": {
    "id": "0p5xxmqzFGrO"
   },
   "outputs": [
    {
     "name": "stderr",
     "output_type": "stream",
     "text": [
      "/var/folders/67/g961msv14fx8jl3zh3wl8qt00000gn/T/ipykernel_59909/4080881573.py:4: DtypeWarning: Columns (72,74,75,77) have mixed types. Specify dtype option on import or set low_memory=False.\n",
      "  df = pd.read_csv('vehicles.csv')\n"
     ]
    },
    {
     "data": {
      "text/html": [
       "<div>\n",
       "<style scoped>\n",
       "    .dataframe tbody tr th:only-of-type {\n",
       "        vertical-align: middle;\n",
       "    }\n",
       "\n",
       "    .dataframe tbody tr th {\n",
       "        vertical-align: top;\n",
       "    }\n",
       "\n",
       "    .dataframe thead th {\n",
       "        text-align: right;\n",
       "    }\n",
       "</style>\n",
       "<table border=\"1\" class=\"dataframe\">\n",
       "  <thead>\n",
       "    <tr style=\"text-align: right;\">\n",
       "      <th></th>\n",
       "      <th>Model</th>\n",
       "      <th>Year</th>\n",
       "      <th>Fuel Type</th>\n",
       "      <th>City MPG</th>\n",
       "      <th>Highway MPG</th>\n",
       "      <th>Combined MPG</th>\n",
       "      <th>Annual Fuel Cost</th>\n",
       "      <th>Annual Consumption (Barrels)</th>\n",
       "      <th>Highway Electricity Consumption</th>\n",
       "      <th>City Electricity Consumption</th>\n",
       "      <th>Combined Electricity Consumption</th>\n",
       "      <th>Vehicle Class</th>\n",
       "      <th>YouSaveOrSpend</th>\n",
       "      <th>AlternativeVehicleType</th>\n",
       "    </tr>\n",
       "  </thead>\n",
       "  <tbody>\n",
       "    <tr>\n",
       "      <th>3</th>\n",
       "      <td>Acura 3.2Tl</td>\n",
       "      <td>2000</td>\n",
       "      <td>Premium</td>\n",
       "      <td>17.00</td>\n",
       "      <td>27.0</td>\n",
       "      <td>20.00</td>\n",
       "      <td>3400.00</td>\n",
       "      <td>14.8755</td>\n",
       "      <td>0.00</td>\n",
       "      <td>0.00</td>\n",
       "      <td>0.00</td>\n",
       "      <td>Midsize Cars</td>\n",
       "      <td>-7500.00</td>\n",
       "      <td>None</td>\n",
       "    </tr>\n",
       "    <tr>\n",
       "      <th>7</th>\n",
       "      <td>Acura 3.5Rl</td>\n",
       "      <td>2000</td>\n",
       "      <td>Premium</td>\n",
       "      <td>16.00</td>\n",
       "      <td>22.0</td>\n",
       "      <td>18.00</td>\n",
       "      <td>3750.00</td>\n",
       "      <td>16.5283</td>\n",
       "      <td>0.00</td>\n",
       "      <td>0.00</td>\n",
       "      <td>0.00</td>\n",
       "      <td>Midsize Cars</td>\n",
       "      <td>-9250.00</td>\n",
       "      <td>None</td>\n",
       "    </tr>\n",
       "    <tr>\n",
       "      <th>22</th>\n",
       "      <td>Acura Integra</td>\n",
       "      <td>2000</td>\n",
       "      <td>Regular</td>\n",
       "      <td>21.67</td>\n",
       "      <td>28.0</td>\n",
       "      <td>23.67</td>\n",
       "      <td>2466.67</td>\n",
       "      <td>12.5759</td>\n",
       "      <td>0.00</td>\n",
       "      <td>0.00</td>\n",
       "      <td>0.00</td>\n",
       "      <td>Subcompact Cars</td>\n",
       "      <td>-2833.33</td>\n",
       "      <td>None</td>\n",
       "    </tr>\n",
       "    <tr>\n",
       "      <th>66</th>\n",
       "      <td>Acura Nsx</td>\n",
       "      <td>2000</td>\n",
       "      <td>Premium</td>\n",
       "      <td>15.00</td>\n",
       "      <td>22.0</td>\n",
       "      <td>18.00</td>\n",
       "      <td>3750.00</td>\n",
       "      <td>16.5283</td>\n",
       "      <td>0.00</td>\n",
       "      <td>0.00</td>\n",
       "      <td>0.00</td>\n",
       "      <td>Two Seaters</td>\n",
       "      <td>-9250.00</td>\n",
       "      <td>None</td>\n",
       "    </tr>\n",
       "    <tr>\n",
       "      <th>246</th>\n",
       "      <td>Aston Martin Db-7 Vantage Coupe</td>\n",
       "      <td>2000</td>\n",
       "      <td>Premium</td>\n",
       "      <td>10.00</td>\n",
       "      <td>17.0</td>\n",
       "      <td>12.00</td>\n",
       "      <td>5650.00</td>\n",
       "      <td>24.7925</td>\n",
       "      <td>0.00</td>\n",
       "      <td>0.00</td>\n",
       "      <td>0.00</td>\n",
       "      <td>Minicompact Cars</td>\n",
       "      <td>-18750.00</td>\n",
       "      <td>None</td>\n",
       "    </tr>\n",
       "    <tr>\n",
       "      <th>...</th>\n",
       "      <td>...</td>\n",
       "      <td>...</td>\n",
       "      <td>...</td>\n",
       "      <td>...</td>\n",
       "      <td>...</td>\n",
       "      <td>...</td>\n",
       "      <td>...</td>\n",
       "      <td>...</td>\n",
       "      <td>...</td>\n",
       "      <td>...</td>\n",
       "      <td>...</td>\n",
       "      <td>...</td>\n",
       "      <td>...</td>\n",
       "      <td>...</td>\n",
       "    </tr>\n",
       "    <tr>\n",
       "      <th>15523</th>\n",
       "      <td>Volkswagen Tiguan S</td>\n",
       "      <td>2024</td>\n",
       "      <td>Regular</td>\n",
       "      <td>24.00</td>\n",
       "      <td>31.0</td>\n",
       "      <td>27.00</td>\n",
       "      <td>2000.00</td>\n",
       "      <td>11.0189</td>\n",
       "      <td>0.00</td>\n",
       "      <td>0.00</td>\n",
       "      <td>0.00</td>\n",
       "      <td>Small Sport Utility Vehicle 2WD</td>\n",
       "      <td>-500.00</td>\n",
       "      <td>None</td>\n",
       "    </tr>\n",
       "    <tr>\n",
       "      <th>15544</th>\n",
       "      <td>Volvo C40 Recharge</td>\n",
       "      <td>2024</td>\n",
       "      <td>Electricity</td>\n",
       "      <td>118.00</td>\n",
       "      <td>96.0</td>\n",
       "      <td>107.00</td>\n",
       "      <td>650.00</td>\n",
       "      <td>0.0744</td>\n",
       "      <td>35.01</td>\n",
       "      <td>28.62</td>\n",
       "      <td>31.50</td>\n",
       "      <td>Small Sport Utility Vehicle 2WD</td>\n",
       "      <td>6250.00</td>\n",
       "      <td>EV</td>\n",
       "    </tr>\n",
       "    <tr>\n",
       "      <th>15547</th>\n",
       "      <td>Volvo C40 Recharge Twin</td>\n",
       "      <td>2024</td>\n",
       "      <td>Electricity</td>\n",
       "      <td>106.00</td>\n",
       "      <td>91.0</td>\n",
       "      <td>99.00</td>\n",
       "      <td>700.00</td>\n",
       "      <td>0.0816</td>\n",
       "      <td>37.06</td>\n",
       "      <td>31.80</td>\n",
       "      <td>34.17</td>\n",
       "      <td>Small Sport Utility Vehicle 4WD</td>\n",
       "      <td>6000.00</td>\n",
       "      <td>EV</td>\n",
       "    </tr>\n",
       "    <tr>\n",
       "      <th>15769</th>\n",
       "      <td>Volvo Xc40 Recharge</td>\n",
       "      <td>2024</td>\n",
       "      <td>Electricity</td>\n",
       "      <td>118.00</td>\n",
       "      <td>95.0</td>\n",
       "      <td>106.00</td>\n",
       "      <td>650.00</td>\n",
       "      <td>0.0768</td>\n",
       "      <td>35.43</td>\n",
       "      <td>28.63</td>\n",
       "      <td>31.69</td>\n",
       "      <td>Small Sport Utility Vehicle 2WD</td>\n",
       "      <td>6250.00</td>\n",
       "      <td>EV</td>\n",
       "    </tr>\n",
       "    <tr>\n",
       "      <th>15772</th>\n",
       "      <td>Volvo Xc40 Recharge Twin</td>\n",
       "      <td>2024</td>\n",
       "      <td>Electricity</td>\n",
       "      <td>106.00</td>\n",
       "      <td>90.0</td>\n",
       "      <td>98.00</td>\n",
       "      <td>700.00</td>\n",
       "      <td>0.0816</td>\n",
       "      <td>37.65</td>\n",
       "      <td>31.90</td>\n",
       "      <td>34.48</td>\n",
       "      <td>Small Sport Utility Vehicle 4WD</td>\n",
       "      <td>6000.00</td>\n",
       "      <td>EV</td>\n",
       "    </tr>\n",
       "  </tbody>\n",
       "</table>\n",
       "<p>15866 rows × 14 columns</p>\n",
       "</div>"
      ],
      "text/plain": [
       "                                 Model  Year    Fuel Type  City MPG  \\\n",
       "3                          Acura 3.2Tl  2000      Premium     17.00   \n",
       "7                          Acura 3.5Rl  2000      Premium     16.00   \n",
       "22                       Acura Integra  2000      Regular     21.67   \n",
       "66                           Acura Nsx  2000      Premium     15.00   \n",
       "246    Aston Martin Db-7 Vantage Coupe  2000      Premium     10.00   \n",
       "...                                ...   ...          ...       ...   \n",
       "15523              Volkswagen Tiguan S  2024      Regular     24.00   \n",
       "15544               Volvo C40 Recharge  2024  Electricity    118.00   \n",
       "15547          Volvo C40 Recharge Twin  2024  Electricity    106.00   \n",
       "15769              Volvo Xc40 Recharge  2024  Electricity    118.00   \n",
       "15772         Volvo Xc40 Recharge Twin  2024  Electricity    106.00   \n",
       "\n",
       "       Highway MPG  Combined MPG  Annual Fuel Cost  \\\n",
       "3             27.0         20.00           3400.00   \n",
       "7             22.0         18.00           3750.00   \n",
       "22            28.0         23.67           2466.67   \n",
       "66            22.0         18.00           3750.00   \n",
       "246           17.0         12.00           5650.00   \n",
       "...            ...           ...               ...   \n",
       "15523         31.0         27.00           2000.00   \n",
       "15544         96.0        107.00            650.00   \n",
       "15547         91.0         99.00            700.00   \n",
       "15769         95.0        106.00            650.00   \n",
       "15772         90.0         98.00            700.00   \n",
       "\n",
       "       Annual Consumption (Barrels)  Highway Electricity Consumption  \\\n",
       "3                           14.8755                             0.00   \n",
       "7                           16.5283                             0.00   \n",
       "22                          12.5759                             0.00   \n",
       "66                          16.5283                             0.00   \n",
       "246                         24.7925                             0.00   \n",
       "...                             ...                              ...   \n",
       "15523                       11.0189                             0.00   \n",
       "15544                        0.0744                            35.01   \n",
       "15547                        0.0816                            37.06   \n",
       "15769                        0.0768                            35.43   \n",
       "15772                        0.0816                            37.65   \n",
       "\n",
       "       City Electricity Consumption  Combined Electricity Consumption  \\\n",
       "3                              0.00                              0.00   \n",
       "7                              0.00                              0.00   \n",
       "22                             0.00                              0.00   \n",
       "66                             0.00                              0.00   \n",
       "246                            0.00                              0.00   \n",
       "...                             ...                               ...   \n",
       "15523                          0.00                              0.00   \n",
       "15544                         28.62                             31.50   \n",
       "15547                         31.80                             34.17   \n",
       "15769                         28.63                             31.69   \n",
       "15772                         31.90                             34.48   \n",
       "\n",
       "                         Vehicle Class  YouSaveOrSpend AlternativeVehicleType  \n",
       "3                         Midsize Cars        -7500.00                   None  \n",
       "7                         Midsize Cars        -9250.00                   None  \n",
       "22                     Subcompact Cars        -2833.33                   None  \n",
       "66                         Two Seaters        -9250.00                   None  \n",
       "246                   Minicompact Cars       -18750.00                   None  \n",
       "...                                ...             ...                    ...  \n",
       "15523  Small Sport Utility Vehicle 2WD         -500.00                   None  \n",
       "15544  Small Sport Utility Vehicle 2WD         6250.00                     EV  \n",
       "15547  Small Sport Utility Vehicle 4WD         6000.00                     EV  \n",
       "15769  Small Sport Utility Vehicle 2WD         6250.00                     EV  \n",
       "15772  Small Sport Utility Vehicle 4WD         6000.00                     EV  \n",
       "\n",
       "[15866 rows x 14 columns]"
      ]
     },
     "execution_count": 1,
     "metadata": {},
     "output_type": "execute_result"
    }
   ],
   "source": [
    "import pandas as pd\n",
    "\n",
    "def data_parser():\n",
    "    df = pd.read_csv('vehicles.csv')\n",
    "\n",
    "    # Combine 'make' and 'model' columns into a new 'Model' column and title-case it\n",
    "    df['Model'] = df['make'].str.cat(df['model'], sep=' ').str.title()\n",
    "\n",
    "    # Define the columns to keep, including the new 'Model' column\n",
    "    columns_to_keep = ['Model', 'year', 'fuelType', 'city08', 'highway08', 'comb08', 'fuelCost08',\n",
    "                        'barrels08', 'highwayE', 'cityE', 'combE', 'VClass', 'youSaveSpend', 'atvType']\n",
    "\n",
    "    # Filter out columns to only keep the ones specified\n",
    "    df = df[columns_to_keep]\n",
    "\n",
    "    # Make the 'Model' column the first column in the dataframe\n",
    "    cols = df.columns.tolist()\n",
    "    cols.insert(0, cols.pop(cols.index('Model')))\n",
    "    df = df[cols]\n",
    "\n",
    "    # Filter the dataframe to only keep rows where 'year' is greater than or equal to 2000\n",
    "    df = df[df['year'] >= 2000]\n",
    "\n",
    "    # Remove rows where 'atvType' is 'Hybrid', 'Plug-in Hybrid', or 'Diesel'\n",
    "    df = df[~df['atvType'].isin(['Hybrid', 'Plug-in Hybrid', 'Diesel'])]\n",
    "\n",
    "    # Combining makes and models that have the same model, make, year, fuelType\n",
    "    aggregation_functions = {\n",
    "        'fuelType': 'first',\n",
    "        'city08': 'mean',\n",
    "        'highway08': 'mean',\n",
    "        'comb08': 'mean',\n",
    "        'fuelCost08': 'mean',\n",
    "        'barrels08': 'mean',\n",
    "        'highwayE': 'mean',\n",
    "        'cityE':'mean',\n",
    "        'combE' : 'mean',\n",
    "        'VClass': 'first',\n",
    "        'youSaveSpend': 'mean',\n",
    "        'atvType': 'first'\n",
    "    }\n",
    "    df = df.groupby(['Model', 'year']).agg(aggregation_functions).reset_index()\n",
    "\n",
    "    # Sort the DataFrame by 'Year' and 'Model'\n",
    "    df = df.sort_values(by=['year', 'Model'])\n",
    "\n",
    "    #Round Annual Consumption to 2 decimal places\n",
    "    df['barrels08'] = df['barrels08'].round(4)\n",
    "    df['fuelCost08'] = df['fuelCost08'].round(2)\n",
    "    df['city08'] = df['city08'].round(2)\n",
    "    df['highway08'] = df['highway08'].round(2)\n",
    "    df['comb08'] = df['comb08'].round(2)\n",
    "    df['youSaveSpend'] = df['youSaveSpend'].round(2)\n",
    "    df['cityE'] = df['cityE'].round(2)\n",
    "    df['highwayE'] = df['highwayE'].round(2)\n",
    "    df['combE'] = df['combE'].round(2)\n",
    "\n",
    "    # Rename columns as needed\n",
    "    df.rename(columns={\n",
    "        'barrels08' : 'Annual Consumption (Barrels)',\n",
    "        'year': 'Year',\n",
    "        'fuelType':'Fuel Type',\n",
    "        'city08': 'City MPG',\n",
    "        'highway08': 'Highway MPG',\n",
    "        'comb08': 'Combined MPG',\n",
    "        'fuelCost08': 'Annual Fuel Cost',\n",
    "        'VClass': 'Vehicle Class',\n",
    "        'youSaveSpend': 'YouSaveOrSpend',\n",
    "        'atvType': 'AlternativeVehicleType',\n",
    "        'cityE' : 'City Electricity Consumption',\n",
    "        'highwayE' : 'Highway Electricity Consumption',\n",
    "        'combE' : 'Combined Electricity Consumption',\n",
    "\n",
    "    # Add any other columns you wish to rename\n",
    "    }, inplace=True)\n",
    "\n",
    "    df.to_csv('updatedVehicles.csv')\n",
    "    return df\n",
    "############ Function Call ############\n",
    "data_parser()"
   ]
  },
  {
   "cell_type": "markdown",
   "metadata": {
    "id": "794L4vGXFdYw"
   },
   "source": [
    "## Web Collection Requirement \\#1\n"
   ]
  },
  {
   "cell_type": "code",
   "execution_count": 2,
   "metadata": {
    "id": "vXwpJObDFiWM"
   },
   "outputs": [
    {
     "data": {
      "text/html": [
       "<div>\n",
       "<style scoped>\n",
       "    .dataframe tbody tr th:only-of-type {\n",
       "        vertical-align: middle;\n",
       "    }\n",
       "\n",
       "    .dataframe tbody tr th {\n",
       "        vertical-align: top;\n",
       "    }\n",
       "\n",
       "    .dataframe thead th {\n",
       "        text-align: right;\n",
       "    }\n",
       "</style>\n",
       "<table border=\"1\" class=\"dataframe\">\n",
       "  <thead>\n",
       "    <tr style=\"text-align: right;\">\n",
       "      <th></th>\n",
       "      <th>National</th>\n",
       "      <th>California</th>\n",
       "      <th>Colorado</th>\n",
       "      <th>Florida</th>\n",
       "      <th>Massachusetts</th>\n",
       "      <th>Minnesota</th>\n",
       "      <th>New York</th>\n",
       "      <th>Ohio</th>\n",
       "      <th>Texas</th>\n",
       "      <th>Washington</th>\n",
       "    </tr>\n",
       "    <tr>\n",
       "      <th>Year</th>\n",
       "      <th></th>\n",
       "      <th></th>\n",
       "      <th></th>\n",
       "      <th></th>\n",
       "      <th></th>\n",
       "      <th></th>\n",
       "      <th></th>\n",
       "      <th></th>\n",
       "      <th></th>\n",
       "      <th></th>\n",
       "    </tr>\n",
       "  </thead>\n",
       "  <tbody>\n",
       "    <tr>\n",
       "      <th>2000</th>\n",
       "      <td>1.524</td>\n",
       "      <td>1.772</td>\n",
       "      <td>1.602</td>\n",
       "      <td>NaN</td>\n",
       "      <td>NaN</td>\n",
       "      <td>1.550</td>\n",
       "      <td>1.680</td>\n",
       "      <td>NaN</td>\n",
       "      <td>1.479</td>\n",
       "      <td>NaN</td>\n",
       "    </tr>\n",
       "    <tr>\n",
       "      <th>2001</th>\n",
       "      <td>1.466</td>\n",
       "      <td>1.684</td>\n",
       "      <td>1.507</td>\n",
       "      <td>NaN</td>\n",
       "      <td>NaN</td>\n",
       "      <td>1.493</td>\n",
       "      <td>1.568</td>\n",
       "      <td>NaN</td>\n",
       "      <td>1.372</td>\n",
       "      <td>NaN</td>\n",
       "    </tr>\n",
       "    <tr>\n",
       "      <th>2002</th>\n",
       "      <td>1.382</td>\n",
       "      <td>1.555</td>\n",
       "      <td>1.390</td>\n",
       "      <td>NaN</td>\n",
       "      <td>NaN</td>\n",
       "      <td>1.369</td>\n",
       "      <td>1.489</td>\n",
       "      <td>NaN</td>\n",
       "      <td>1.312</td>\n",
       "      <td>NaN</td>\n",
       "    </tr>\n",
       "    <tr>\n",
       "      <th>2003</th>\n",
       "      <td>1.601</td>\n",
       "      <td>1.874</td>\n",
       "      <td>1.568</td>\n",
       "      <td>1.579</td>\n",
       "      <td>1.635</td>\n",
       "      <td>1.538</td>\n",
       "      <td>1.730</td>\n",
       "      <td>1.546</td>\n",
       "      <td>1.488</td>\n",
       "      <td>1.687</td>\n",
       "    </tr>\n",
       "    <tr>\n",
       "      <th>2004</th>\n",
       "      <td>1.891</td>\n",
       "      <td>2.161</td>\n",
       "      <td>1.853</td>\n",
       "      <td>1.911</td>\n",
       "      <td>1.904</td>\n",
       "      <td>1.797</td>\n",
       "      <td>2.037</td>\n",
       "      <td>1.834</td>\n",
       "      <td>1.768</td>\n",
       "      <td>1.987</td>\n",
       "    </tr>\n",
       "    <tr>\n",
       "      <th>2005</th>\n",
       "      <td>2.312</td>\n",
       "      <td>2.515</td>\n",
       "      <td>2.298</td>\n",
       "      <td>2.354</td>\n",
       "      <td>2.306</td>\n",
       "      <td>2.171</td>\n",
       "      <td>2.453</td>\n",
       "      <td>2.251</td>\n",
       "      <td>2.215</td>\n",
       "      <td>2.407</td>\n",
       "    </tr>\n",
       "    <tr>\n",
       "      <th>2006</th>\n",
       "      <td>2.615</td>\n",
       "      <td>2.851</td>\n",
       "      <td>2.586</td>\n",
       "      <td>2.634</td>\n",
       "      <td>2.617</td>\n",
       "      <td>2.517</td>\n",
       "      <td>2.796</td>\n",
       "      <td>2.532</td>\n",
       "      <td>2.508</td>\n",
       "      <td>2.749</td>\n",
       "    </tr>\n",
       "    <tr>\n",
       "      <th>2007</th>\n",
       "      <td>2.846</td>\n",
       "      <td>3.124</td>\n",
       "      <td>2.836</td>\n",
       "      <td>2.841</td>\n",
       "      <td>2.774</td>\n",
       "      <td>2.780</td>\n",
       "      <td>2.998</td>\n",
       "      <td>2.819</td>\n",
       "      <td>2.707</td>\n",
       "      <td>3.009</td>\n",
       "    </tr>\n",
       "    <tr>\n",
       "      <th>2008</th>\n",
       "      <td>3.305</td>\n",
       "      <td>3.569</td>\n",
       "      <td>3.218</td>\n",
       "      <td>3.335</td>\n",
       "      <td>3.238</td>\n",
       "      <td>3.132</td>\n",
       "      <td>3.509</td>\n",
       "      <td>3.216</td>\n",
       "      <td>3.174</td>\n",
       "      <td>3.459</td>\n",
       "    </tr>\n",
       "    <tr>\n",
       "      <th>2009</th>\n",
       "      <td>2.397</td>\n",
       "      <td>2.718</td>\n",
       "      <td>2.286</td>\n",
       "      <td>2.408</td>\n",
       "      <td>2.353</td>\n",
       "      <td>2.315</td>\n",
       "      <td>2.564</td>\n",
       "      <td>2.346</td>\n",
       "      <td>2.258</td>\n",
       "      <td>2.618</td>\n",
       "    </tr>\n",
       "    <tr>\n",
       "      <th>2010</th>\n",
       "      <td>2.834</td>\n",
       "      <td>3.137</td>\n",
       "      <td>2.712</td>\n",
       "      <td>2.823</td>\n",
       "      <td>2.800</td>\n",
       "      <td>2.786</td>\n",
       "      <td>2.998</td>\n",
       "      <td>2.766</td>\n",
       "      <td>2.689</td>\n",
       "      <td>3.055</td>\n",
       "    </tr>\n",
       "    <tr>\n",
       "      <th>2011</th>\n",
       "      <td>3.576</td>\n",
       "      <td>3.866</td>\n",
       "      <td>3.447</td>\n",
       "      <td>3.550</td>\n",
       "      <td>3.590</td>\n",
       "      <td>3.549</td>\n",
       "      <td>3.803</td>\n",
       "      <td>3.504</td>\n",
       "      <td>3.429</td>\n",
       "      <td>3.768</td>\n",
       "    </tr>\n",
       "    <tr>\n",
       "      <th>2012</th>\n",
       "      <td>3.686</td>\n",
       "      <td>4.090</td>\n",
       "      <td>3.535</td>\n",
       "      <td>3.634</td>\n",
       "      <td>3.721</td>\n",
       "      <td>3.569</td>\n",
       "      <td>3.941</td>\n",
       "      <td>3.621</td>\n",
       "      <td>3.492</td>\n",
       "      <td>3.894</td>\n",
       "    </tr>\n",
       "    <tr>\n",
       "      <th>2013</th>\n",
       "      <td>3.576</td>\n",
       "      <td>3.934</td>\n",
       "      <td>3.470</td>\n",
       "      <td>3.572</td>\n",
       "      <td>3.616</td>\n",
       "      <td>3.501</td>\n",
       "      <td>3.837</td>\n",
       "      <td>3.510</td>\n",
       "      <td>3.389</td>\n",
       "      <td>3.691</td>\n",
       "    </tr>\n",
       "    <tr>\n",
       "      <th>2014</th>\n",
       "      <td>3.442</td>\n",
       "      <td>3.800</td>\n",
       "      <td>3.394</td>\n",
       "      <td>3.427</td>\n",
       "      <td>3.485</td>\n",
       "      <td>3.301</td>\n",
       "      <td>3.703</td>\n",
       "      <td>3.384</td>\n",
       "      <td>3.231</td>\n",
       "      <td>3.608</td>\n",
       "    </tr>\n",
       "    <tr>\n",
       "      <th>2015</th>\n",
       "      <td>2.513</td>\n",
       "      <td>3.210</td>\n",
       "      <td>2.402</td>\n",
       "      <td>2.433</td>\n",
       "      <td>2.457</td>\n",
       "      <td>2.390</td>\n",
       "      <td>2.663</td>\n",
       "      <td>2.401</td>\n",
       "      <td>2.253</td>\n",
       "      <td>2.744</td>\n",
       "    </tr>\n",
       "    <tr>\n",
       "      <th>2016</th>\n",
       "      <td>2.253</td>\n",
       "      <td>2.786</td>\n",
       "      <td>2.142</td>\n",
       "      <td>2.219</td>\n",
       "      <td>2.223</td>\n",
       "      <td>2.092</td>\n",
       "      <td>2.363</td>\n",
       "      <td>2.188</td>\n",
       "      <td>2.018</td>\n",
       "      <td>2.533</td>\n",
       "    </tr>\n",
       "    <tr>\n",
       "      <th>2017</th>\n",
       "      <td>2.530</td>\n",
       "      <td>3.085</td>\n",
       "      <td>2.431</td>\n",
       "      <td>2.487</td>\n",
       "      <td>2.513</td>\n",
       "      <td>2.389</td>\n",
       "      <td>2.620</td>\n",
       "      <td>2.386</td>\n",
       "      <td>2.296</td>\n",
       "      <td>2.914</td>\n",
       "    </tr>\n",
       "    <tr>\n",
       "      <th>2018</th>\n",
       "      <td>2.817</td>\n",
       "      <td>3.554</td>\n",
       "      <td>2.752</td>\n",
       "      <td>2.708</td>\n",
       "      <td>2.827</td>\n",
       "      <td>2.655</td>\n",
       "      <td>2.898</td>\n",
       "      <td>2.620</td>\n",
       "      <td>2.532</td>\n",
       "      <td>3.272</td>\n",
       "    </tr>\n",
       "    <tr>\n",
       "      <th>2019</th>\n",
       "      <td>2.686</td>\n",
       "      <td>3.674</td>\n",
       "      <td>2.653</td>\n",
       "      <td>2.507</td>\n",
       "      <td>2.662</td>\n",
       "      <td>2.498</td>\n",
       "      <td>2.726</td>\n",
       "      <td>2.535</td>\n",
       "      <td>2.350</td>\n",
       "      <td>3.184</td>\n",
       "    </tr>\n",
       "    <tr>\n",
       "      <th>2020</th>\n",
       "      <td>2.260</td>\n",
       "      <td>3.133</td>\n",
       "      <td>2.334</td>\n",
       "      <td>2.152</td>\n",
       "      <td>2.236</td>\n",
       "      <td>2.051</td>\n",
       "      <td>2.326</td>\n",
       "      <td>2.083</td>\n",
       "      <td>1.901</td>\n",
       "      <td>2.732</td>\n",
       "    </tr>\n",
       "    <tr>\n",
       "      <th>2021</th>\n",
       "      <td>3.094</td>\n",
       "      <td>4.093</td>\n",
       "      <td>3.258</td>\n",
       "      <td>2.950</td>\n",
       "      <td>3.007</td>\n",
       "      <td>2.865</td>\n",
       "      <td>3.099</td>\n",
       "      <td>2.927</td>\n",
       "      <td>2.722</td>\n",
       "      <td>3.513</td>\n",
       "    </tr>\n",
       "    <tr>\n",
       "      <th>2022</th>\n",
       "      <td>4.064</td>\n",
       "      <td>5.405</td>\n",
       "      <td>3.896</td>\n",
       "      <td>3.819</td>\n",
       "      <td>4.105</td>\n",
       "      <td>3.825</td>\n",
       "      <td>4.110</td>\n",
       "      <td>3.838</td>\n",
       "      <td>3.558</td>\n",
       "      <td>4.657</td>\n",
       "    </tr>\n",
       "    <tr>\n",
       "      <th>2023</th>\n",
       "      <td>3.634</td>\n",
       "      <td>4.880</td>\n",
       "      <td>3.668</td>\n",
       "      <td>3.445</td>\n",
       "      <td>3.591</td>\n",
       "      <td>3.449</td>\n",
       "      <td>3.660</td>\n",
       "      <td>3.406</td>\n",
       "      <td>3.145</td>\n",
       "      <td>4.538</td>\n",
       "    </tr>\n",
       "  </tbody>\n",
       "</table>\n",
       "</div>"
      ],
      "text/plain": [
       "        National  California  Colorado  Florida  Massachusetts  Minnesota  \\\n",
       "Year                                                                        \n",
       "  2000     1.524       1.772     1.602      NaN            NaN      1.550   \n",
       "  2001     1.466       1.684     1.507      NaN            NaN      1.493   \n",
       "  2002     1.382       1.555     1.390      NaN            NaN      1.369   \n",
       "  2003     1.601       1.874     1.568    1.579          1.635      1.538   \n",
       "  2004     1.891       2.161     1.853    1.911          1.904      1.797   \n",
       "  2005     2.312       2.515     2.298    2.354          2.306      2.171   \n",
       "  2006     2.615       2.851     2.586    2.634          2.617      2.517   \n",
       "  2007     2.846       3.124     2.836    2.841          2.774      2.780   \n",
       "  2008     3.305       3.569     3.218    3.335          3.238      3.132   \n",
       "  2009     2.397       2.718     2.286    2.408          2.353      2.315   \n",
       "  2010     2.834       3.137     2.712    2.823          2.800      2.786   \n",
       "  2011     3.576       3.866     3.447    3.550          3.590      3.549   \n",
       "  2012     3.686       4.090     3.535    3.634          3.721      3.569   \n",
       "  2013     3.576       3.934     3.470    3.572          3.616      3.501   \n",
       "  2014     3.442       3.800     3.394    3.427          3.485      3.301   \n",
       "  2015     2.513       3.210     2.402    2.433          2.457      2.390   \n",
       "  2016     2.253       2.786     2.142    2.219          2.223      2.092   \n",
       "  2017     2.530       3.085     2.431    2.487          2.513      2.389   \n",
       "  2018     2.817       3.554     2.752    2.708          2.827      2.655   \n",
       "  2019     2.686       3.674     2.653    2.507          2.662      2.498   \n",
       "  2020     2.260       3.133     2.334    2.152          2.236      2.051   \n",
       "  2021     3.094       4.093     3.258    2.950          3.007      2.865   \n",
       "  2022     4.064       5.405     3.896    3.819          4.105      3.825   \n",
       "  2023     3.634       4.880     3.668    3.445          3.591      3.449   \n",
       "\n",
       "        New York   Ohio  Texas  Washington  \n",
       "Year                                        \n",
       "  2000     1.680    NaN  1.479         NaN  \n",
       "  2001     1.568    NaN  1.372         NaN  \n",
       "  2002     1.489    NaN  1.312         NaN  \n",
       "  2003     1.730  1.546  1.488       1.687  \n",
       "  2004     2.037  1.834  1.768       1.987  \n",
       "  2005     2.453  2.251  2.215       2.407  \n",
       "  2006     2.796  2.532  2.508       2.749  \n",
       "  2007     2.998  2.819  2.707       3.009  \n",
       "  2008     3.509  3.216  3.174       3.459  \n",
       "  2009     2.564  2.346  2.258       2.618  \n",
       "  2010     2.998  2.766  2.689       3.055  \n",
       "  2011     3.803  3.504  3.429       3.768  \n",
       "  2012     3.941  3.621  3.492       3.894  \n",
       "  2013     3.837  3.510  3.389       3.691  \n",
       "  2014     3.703  3.384  3.231       3.608  \n",
       "  2015     2.663  2.401  2.253       2.744  \n",
       "  2016     2.363  2.188  2.018       2.533  \n",
       "  2017     2.620  2.386  2.296       2.914  \n",
       "  2018     2.898  2.620  2.532       3.272  \n",
       "  2019     2.726  2.535  2.350       3.184  \n",
       "  2020     2.326  2.083  1.901       2.732  \n",
       "  2021     3.099  2.927  2.722       3.513  \n",
       "  2022     4.110  3.838  3.558       4.657  \n",
       "  2023     3.660  3.406  3.145       4.538  "
      ]
     },
     "execution_count": 2,
     "metadata": {},
     "output_type": "execute_result"
    }
   ],
   "source": [
    "import requests\n",
    "from bs4 import BeautifulSoup\n",
    "import pandas as pd\n",
    "import numpy as np\n",
    "from pprint import pprint\n",
    "\n",
    "def web_parser1():\n",
    "  # Requesting the html string using requests module and creating soup object from it\n",
    "  response = requests.get(\"https://www.eia.gov/dnav/pet/hist/LeafHandler.ashx?n=pet&s=emm_epm0_pte_nus_dpg&f=m\")\n",
    "  soup = BeautifulSoup(response.text, features = \"lxml\")\n",
    "\n",
    "  # Locating the table tag, which stores all the rows\n",
    "  table = soup.find(\"table\", {\"class\" : \"FloatTitle\"})\n",
    "\n",
    "  # Locating all the rows\n",
    "  rows = table.find_all(\"tr\")\n",
    "\n",
    "  # Inner and outer list used to create pandas dataframe\n",
    "  listofrows = []\n",
    "  innerrow = []\n",
    "\n",
    "  # Iterating through the rows, adding to the inner list the text\n",
    "  for row in rows[1:]:\n",
    "    innerrow = []\n",
    "    for data in row.find_all(\"td\"):\n",
    "      innerrow.append(data.text)\n",
    "    listofrows.append(innerrow)\n",
    "\n",
    "  # Creating list for header/columns\n",
    "  header = [tag.text for tag in rows[0] if tag.text != \" \"]\n",
    "\n",
    "  # Creating dataframe from list of lists\n",
    "  df = pd.DataFrame(listofrows, columns = header)\n",
    "\n",
    "  # Masking the dataframe to eliminate rows of empty separation from html source code\n",
    "  df = df[df.iloc[:,0] != \"\"]\n",
    "\n",
    "  # Setting the index to the year\n",
    "  df.set_index('Year', inplace=True)\n",
    "\n",
    "  # Setting the dataframe to only contain years past year 2000\n",
    "  df = df.iloc[7:, :]\n",
    "\n",
    "  # Changing only the gas prices from string to float to use aggregate mean\n",
    "  df = df[df!= ''].astype(float)\n",
    "\n",
    "  # Creating new column to hold the mean of ALL months, or the yearly average\n",
    "  df[\"National\"] = df.mean(axis = 1).round(3)\n",
    "\n",
    "  # New dataframe that holds only these yearly averages to be used in the final dataframe\n",
    "  # Only U.S values here; the entire code is repeated with minor changes and different request urls to capture the\n",
    "  # data for states as well in order to compile a yearly average for the U.S and individual states\n",
    "  USdf = df[\"National\"]\n",
    "\n",
    "  # Same process for state of California; adjusted iloc because year default starts at 2000\n",
    "  response = requests.get(\"https://www.eia.gov/dnav/pet/hist/LeafHandler.ashx?n=PET&s=EMM_EPM0_PTE_SCA_DPG&f=M\")\n",
    "  soup = BeautifulSoup(response.text, features = \"lxml\")\n",
    "  table = soup.find(\"table\", {\"class\" : \"FloatTitle\"})\n",
    "  rows = table.find_all(\"tr\")\n",
    "  listofrows = []\n",
    "  innerrow = []\n",
    "  for row in rows[1:]:\n",
    "    innerrow = []\n",
    "    for data in row.find_all(\"td\"):\n",
    "      innerrow.append(data.text)\n",
    "    listofrows.append(innerrow)\n",
    "  header = [tag.text for tag in rows[0] if tag.text != \" \"]\n",
    "  df = pd.DataFrame(listofrows, columns = header)\n",
    "  df = df[df.iloc[:,0] != \"\"]\n",
    "  df.set_index('Year', inplace=True)\n",
    "  df = df.iloc[0:, :]\n",
    "  df = df[(df!= '') & (df!= \"NA\")].astype(float)\n",
    "  df[\"California\"] = df.mean(axis = 1).round(3)\n",
    "  CAdf = df[\"California\"]\n",
    "\n",
    "  # Same process for state of Colorado\n",
    "  response = requests.get(\"https://www.eia.gov/dnav/pet/hist/LeafHandler.ashx?n=PET&s=EMM_EPM0_PTE_SCO_DPG&f=M\")\n",
    "  soup = BeautifulSoup(response.text, features = \"lxml\")\n",
    "  table = soup.find(\"table\", {\"class\" : \"FloatTitle\"})\n",
    "  rows = table.find_all(\"tr\")\n",
    "  listofrows = []\n",
    "  innerrow = []\n",
    "  for row in rows[1:]:\n",
    "    innerrow = []\n",
    "    for data in row.find_all(\"td\"):\n",
    "      innerrow.append(data.text)\n",
    "    listofrows.append(innerrow)\n",
    "  header = [tag.text for tag in rows[0] if tag.text != \" \"]\n",
    "  df = pd.DataFrame(listofrows, columns = header)\n",
    "  df = df[df.iloc[:,0] != \"\"]\n",
    "  df.set_index('Year', inplace=True)\n",
    "  df = df.iloc[0:, :]\n",
    "  df = df[(df!= '') & (df!= \"NA\")].astype(float)\n",
    "  df[\"Colorado\"] = df.mean(axis = 1).round(3)\n",
    "  COdf = df[\"Colorado\"]\n",
    "\n",
    "  # Same process for state of Florida\n",
    "  response = requests.get(\"https://www.eia.gov/dnav/pet/hist/LeafHandler.ashx?n=PET&s=EMM_EPM0_PTE_SFL_DPG&f=M\")\n",
    "  soup = BeautifulSoup(response.text, features = \"lxml\")\n",
    "  table = soup.find(\"table\", {\"class\" : \"FloatTitle\"})\n",
    "  rows = table.find_all(\"tr\")\n",
    "  listofrows = []\n",
    "  innerrow = []\n",
    "  for row in rows[1:]:\n",
    "    innerrow = []\n",
    "    for data in row.find_all(\"td\"):\n",
    "      innerrow.append(data.text)\n",
    "    listofrows.append(innerrow)\n",
    "  header = [tag.text for tag in rows[0] if tag.text != \" \"]\n",
    "  df = pd.DataFrame(listofrows, columns = header)\n",
    "  df = df[df.iloc[:,0] != \"\"]\n",
    "  df.set_index('Year', inplace=True)\n",
    "  df = df.iloc[0:, :]\n",
    "  df = df[(df!= '') & (df!= \"NA\")].astype(float)\n",
    "  df[\"Florida\"] = df.mean(axis = 1).round(3)\n",
    "  FLdf = df[\"Florida\"]\n",
    "\n",
    "  # Same process for state of Massachusetts\n",
    "  response = requests.get(\"https://www.eia.gov/dnav/pet/hist/LeafHandler.ashx?n=PET&s=EMM_EPM0_PTE_SMA_DPG&f=M\")\n",
    "  soup = BeautifulSoup(response.text, features = \"lxml\")\n",
    "  table = soup.find(\"table\", {\"class\" : \"FloatTitle\"})\n",
    "  rows = table.find_all(\"tr\")\n",
    "  listofrows = []\n",
    "  innerrow = []\n",
    "  for row in rows[1:]:\n",
    "    innerrow = []\n",
    "    for data in row.find_all(\"td\"):\n",
    "      innerrow.append(data.text)\n",
    "    listofrows.append(innerrow)\n",
    "  header = [tag.text for tag in rows[0] if tag.text != \" \"]\n",
    "  df = pd.DataFrame(listofrows, columns = header)\n",
    "  df = df[df.iloc[:,0] != \"\"]\n",
    "  df.set_index('Year', inplace=True)\n",
    "  df = df.iloc[0:, :]\n",
    "  df = df[(df!= '') & (df!= \"NA\")].astype(float)\n",
    "  df[\"Massachusetts\"] = df.mean(axis = 1).round(3)\n",
    "  MAdf = df[\"Massachusetts\"]\n",
    "\n",
    "  # Same process for state of Minnesota\n",
    "  response = requests.get(\"https://www.eia.gov/dnav/pet/hist/LeafHandler.ashx?n=PET&s=EMM_EPM0_PTE_SMN_DPG&f=M\")\n",
    "  soup = BeautifulSoup(response.text, features = \"lxml\")\n",
    "  table = soup.find(\"table\", {\"class\" : \"FloatTitle\"})\n",
    "  rows = table.find_all(\"tr\")\n",
    "  listofrows = []\n",
    "  innerrow = []\n",
    "  for row in rows[1:]:\n",
    "    innerrow = []\n",
    "    for data in row.find_all(\"td\"):\n",
    "      innerrow.append(data.text)\n",
    "    listofrows.append(innerrow)\n",
    "  header = [tag.text for tag in rows[0] if tag.text != \" \"]\n",
    "  df = pd.DataFrame(listofrows, columns = header)\n",
    "  df = df[df.iloc[:,0] != \"\"]\n",
    "  df.set_index('Year', inplace=True)\n",
    "  df = df.iloc[0:, :]\n",
    "  df = df[(df!= '') & (df!= \"NA\")].astype(float)\n",
    "  df[\"Minnesota\"] = df.mean(axis = 1).round(3)\n",
    "  MNdf = df[\"Minnesota\"]\n",
    "\n",
    "  # Same process for state of New York\n",
    "  response = requests.get(\"https://www.eia.gov/dnav/pet/hist/LeafHandler.ashx?n=PET&s=EMM_EPM0_PTE_SNY_DPG&f=M\")\n",
    "  soup = BeautifulSoup(response.text, features = \"lxml\")\n",
    "  table = soup.find(\"table\", {\"class\" : \"FloatTitle\"})\n",
    "  rows = table.find_all(\"tr\")\n",
    "  listofrows = []\n",
    "  innerrow = []\n",
    "  for row in rows[1:]:\n",
    "    innerrow = []\n",
    "    for data in row.find_all(\"td\"):\n",
    "      innerrow.append(data.text)\n",
    "    listofrows.append(innerrow)\n",
    "  header = [tag.text for tag in rows[0] if tag.text != \" \"]\n",
    "  df = pd.DataFrame(listofrows, columns = header)\n",
    "  df = df[df.iloc[:,0] != \"\"]\n",
    "  df.set_index('Year', inplace=True)\n",
    "  df = df.iloc[0:, :]\n",
    "  df = df[(df!= '') & (df!= \"NA\")].astype(float)\n",
    "  df[\"New York\"] = df.mean(axis = 1).round(3)\n",
    "  NYdf = df[\"New York\"]\n",
    "\n",
    "  # Same process for state of Ohio\n",
    "  response = requests.get(\"https://www.eia.gov/dnav/pet/hist/LeafHandler.ashx?n=PET&s=EMM_EPM0_PTE_SOH_DPG&f=M\")\n",
    "  soup = BeautifulSoup(response.text, features = \"lxml\")\n",
    "  table = soup.find(\"table\", {\"class\" : \"FloatTitle\"})\n",
    "  rows = table.find_all(\"tr\")\n",
    "  listofrows = []\n",
    "  innerrow = []\n",
    "  for row in rows[1:]:\n",
    "    innerrow = []\n",
    "    for data in row.find_all(\"td\"):\n",
    "      innerrow.append(data.text)\n",
    "    listofrows.append(innerrow)\n",
    "  header = [tag.text for tag in rows[0] if tag.text != \" \"]\n",
    "  df = pd.DataFrame(listofrows, columns = header)\n",
    "  df = df[df.iloc[:,0] != \"\"]\n",
    "  df.set_index('Year', inplace=True)\n",
    "  df = df.iloc[0:, :]\n",
    "  df = df[(df!= '') & (df!= \"NA\")].astype(float)\n",
    "  df[\"Ohio\"] = df.mean(axis = 1).round(3)\n",
    "  OHdf = df[\"Ohio\"]\n",
    "\n",
    "  # Same process for state of Texas\n",
    "  response = requests.get(\"https://www.eia.gov/dnav/pet/hist/LeafHandler.ashx?n=PET&s=EMM_EPM0_PTE_STX_DPG&f=M\")\n",
    "  soup = BeautifulSoup(response.text, features = \"lxml\")\n",
    "  table = soup.find(\"table\", {\"class\" : \"FloatTitle\"})\n",
    "  rows = table.find_all(\"tr\")\n",
    "  listofrows = []\n",
    "  innerrow = []\n",
    "  for row in rows[1:]:\n",
    "    innerrow = []\n",
    "    for data in row.find_all(\"td\"):\n",
    "      innerrow.append(data.text)\n",
    "    listofrows.append(innerrow)\n",
    "  header = [tag.text for tag in rows[0] if tag.text != \" \"]\n",
    "  df = pd.DataFrame(listofrows, columns = header)\n",
    "  df = df[df.iloc[:,0] != \"\"]\n",
    "  df.set_index('Year', inplace=True)\n",
    "  df = df.iloc[0:, :]\n",
    "  df = df[(df!= '') & (df!= \"NA\")].astype(float)\n",
    "  df[\"Texas\"] = df.mean(axis = 1).round(3)\n",
    "  TXdf = df[\"Texas\"]\n",
    "\n",
    "  # Same process for state of Washington\n",
    "  response = requests.get(\"https://www.eia.gov/dnav/pet/hist/LeafHandler.ashx?n=PET&s=EMM_EPM0_PTE_SWA_DPG&f=M\")\n",
    "  soup = BeautifulSoup(response.text, features = \"lxml\")\n",
    "  table = soup.find(\"table\", {\"class\" : \"FloatTitle\"})\n",
    "  rows = table.find_all(\"tr\")\n",
    "  listofrows = []\n",
    "  innerrow = []\n",
    "  for row in rows[1:]:\n",
    "    innerrow = []\n",
    "    for data in row.find_all(\"td\"):\n",
    "      innerrow.append(data.text)\n",
    "    listofrows.append(innerrow)\n",
    "  header = [tag.text for tag in rows[0] if tag.text != \" \"]\n",
    "  df = pd.DataFrame(listofrows, columns = header)\n",
    "  df = df[df.iloc[:,0] != \"\"]\n",
    "  df.set_index('Year', inplace=True)\n",
    "  df = df.iloc[0:, :]\n",
    "  df = df[(df!= '') & (df!= \"NA\")].astype(float)\n",
    "  df[\"Washington\"] = df.mean(axis = 1).round(3)\n",
    "  WAdf = df[\"Washington\"]\n",
    "  # Creating the final dataframe by concatenating the individual aggregated average columns for each state yearly\n",
    "  updateddf = pd.concat([USdf, CAdf, COdf, FLdf, MAdf, MNdf, NYdf, OHdf, TXdf, WAdf], axis = 1)\n",
    "\n",
    "  # Writing the data to a csv file\n",
    "  updateddf.to_csv(\"updatedfuelprices.csv\", index = True)\n",
    "\n",
    "  return updateddf\n",
    "\n",
    "############ Function Call ############\n",
    "(web_parser1())"
   ]
  },
  {
   "cell_type": "markdown",
   "metadata": {
    "id": "OTRqdBG6sSvu"
   },
   "source": [
    "## Web Collection Requirement #2"
   ]
  },
  {
   "cell_type": "code",
   "execution_count": 3,
   "metadata": {
    "id": "YtV_MYeusYDd"
   },
   "outputs": [
    {
     "data": {
      "text/html": [
       "<div>\n",
       "<style scoped>\n",
       "    .dataframe tbody tr th:only-of-type {\n",
       "        vertical-align: middle;\n",
       "    }\n",
       "\n",
       "    .dataframe tbody tr th {\n",
       "        vertical-align: top;\n",
       "    }\n",
       "\n",
       "    .dataframe thead th {\n",
       "        text-align: right;\n",
       "    }\n",
       "</style>\n",
       "<table border=\"1\" class=\"dataframe\">\n",
       "  <thead>\n",
       "    <tr style=\"text-align: right;\">\n",
       "      <th></th>\n",
       "      <th>Station Name</th>\n",
       "      <th>City</th>\n",
       "      <th>State</th>\n",
       "      <th>Network</th>\n",
       "      <th>Pricing</th>\n",
       "      <th>Open Date</th>\n",
       "    </tr>\n",
       "  </thead>\n",
       "  <tbody>\n",
       "    <tr>\n",
       "      <th>286</th>\n",
       "      <td>Marsh Street Parking Structure</td>\n",
       "      <td>San Luis Obispo</td>\n",
       "      <td>CA</td>\n",
       "      <td>Non-Networked</td>\n",
       "      <td>Free</td>\n",
       "      <td>2000-04-15</td>\n",
       "    </tr>\n",
       "    <tr>\n",
       "      <th>87</th>\n",
       "      <td>Home Depot</td>\n",
       "      <td>San Luis Obispo</td>\n",
       "      <td>CA</td>\n",
       "      <td>Non-Networked</td>\n",
       "      <td>Free</td>\n",
       "      <td>2000-04-15</td>\n",
       "    </tr>\n",
       "    <tr>\n",
       "      <th>88</th>\n",
       "      <td>San Luis Obispo Promenade - Bed Bath &amp; Beyond</td>\n",
       "      <td>San Luis Obispo</td>\n",
       "      <td>CA</td>\n",
       "      <td>Non-Networked</td>\n",
       "      <td>Free</td>\n",
       "      <td>2000-04-15</td>\n",
       "    </tr>\n",
       "    <tr>\n",
       "      <th>28</th>\n",
       "      <td>California State University - Northridge</td>\n",
       "      <td>Northridge</td>\n",
       "      <td>CA</td>\n",
       "      <td>Non-Networked</td>\n",
       "      <td>Free</td>\n",
       "      <td>2002-01-15</td>\n",
       "    </tr>\n",
       "    <tr>\n",
       "      <th>29</th>\n",
       "      <td>California State University - Northridge</td>\n",
       "      <td>Northridge</td>\n",
       "      <td>CA</td>\n",
       "      <td>Non-Networked</td>\n",
       "      <td>Free; parking is $8 per day.</td>\n",
       "      <td>2002-01-15</td>\n",
       "    </tr>\n",
       "    <tr>\n",
       "      <th>...</th>\n",
       "      <td>...</td>\n",
       "      <td>...</td>\n",
       "      <td>...</td>\n",
       "      <td>...</td>\n",
       "      <td>...</td>\n",
       "      <td>...</td>\n",
       "    </tr>\n",
       "    <tr>\n",
       "      <th>37673</th>\n",
       "      <td>MIDDLEBOROUGH JACKSON L3 #2</td>\n",
       "      <td>Middleborough</td>\n",
       "      <td>MA</td>\n",
       "      <td>ChargePoint Network</td>\n",
       "      <td>Free</td>\n",
       "      <td>2024-01-27</td>\n",
       "    </tr>\n",
       "    <tr>\n",
       "      <th>37669</th>\n",
       "      <td>MIT CAMPUS BLDG NW86 #1</td>\n",
       "      <td>Cambridge</td>\n",
       "      <td>MA</td>\n",
       "      <td>ChargePoint Network</td>\n",
       "      <td>Free</td>\n",
       "      <td>2024-01-27</td>\n",
       "    </tr>\n",
       "    <tr>\n",
       "      <th>37675</th>\n",
       "      <td>REDDING STATION 02</td>\n",
       "      <td>Redding</td>\n",
       "      <td>CA</td>\n",
       "      <td>ChargePoint Network</td>\n",
       "      <td>Free</td>\n",
       "      <td>2024-01-28</td>\n",
       "    </tr>\n",
       "    <tr>\n",
       "      <th>37676</th>\n",
       "      <td>BROOKLINE 11 PIERCE 2</td>\n",
       "      <td>Brookline</td>\n",
       "      <td>MA</td>\n",
       "      <td>ChargePoint Network</td>\n",
       "      <td>Free</td>\n",
       "      <td>2024-01-29</td>\n",
       "    </tr>\n",
       "    <tr>\n",
       "      <th>37587</th>\n",
       "      <td>Best Western BCS</td>\n",
       "      <td>Bryan</td>\n",
       "      <td>TX</td>\n",
       "      <td>UNIVERSAL</td>\n",
       "      <td>Free</td>\n",
       "      <td>2024-09-01</td>\n",
       "    </tr>\n",
       "  </tbody>\n",
       "</table>\n",
       "<p>37624 rows × 6 columns</p>\n",
       "</div>"
      ],
      "text/plain": [
       "                                        Station Name             City State  \\\n",
       "286                   Marsh Street Parking Structure  San Luis Obispo    CA   \n",
       "87                                        Home Depot  San Luis Obispo    CA   \n",
       "88     San Luis Obispo Promenade - Bed Bath & Beyond  San Luis Obispo    CA   \n",
       "28          California State University - Northridge       Northridge    CA   \n",
       "29          California State University - Northridge       Northridge    CA   \n",
       "...                                              ...              ...   ...   \n",
       "37673                    MIDDLEBOROUGH JACKSON L3 #2    Middleborough    MA   \n",
       "37669                        MIT CAMPUS BLDG NW86 #1        Cambridge    MA   \n",
       "37675                             REDDING STATION 02          Redding    CA   \n",
       "37676                          BROOKLINE 11 PIERCE 2        Brookline    MA   \n",
       "37587                               Best Western BCS            Bryan    TX   \n",
       "\n",
       "                   Network                       Pricing  Open Date  \n",
       "286          Non-Networked                          Free 2000-04-15  \n",
       "87           Non-Networked                          Free 2000-04-15  \n",
       "88           Non-Networked                          Free 2000-04-15  \n",
       "28           Non-Networked                          Free 2002-01-15  \n",
       "29           Non-Networked  Free; parking is $8 per day. 2002-01-15  \n",
       "...                    ...                           ...        ...  \n",
       "37673  ChargePoint Network                          Free 2024-01-27  \n",
       "37669  ChargePoint Network                          Free 2024-01-27  \n",
       "37675  ChargePoint Network                          Free 2024-01-28  \n",
       "37676  ChargePoint Network                          Free 2024-01-29  \n",
       "37587            UNIVERSAL                          Free 2024-09-01  \n",
       "\n",
       "[37624 rows x 6 columns]"
      ]
     },
     "execution_count": 3,
     "metadata": {},
     "output_type": "execute_result"
    }
   ],
   "source": [
    "import requests\n",
    "from bs4 import BeautifulSoup\n",
    "import pandas as pd\n",
    "import numpy as np\n",
    "from pprint import pprint\n",
    "def web_parser2():\n",
    "    # Requesting the api with the following parameters to filter/clean the data intially without having to later:\n",
    "    # Fuel type is set to ElEC to filter by electric charging stations ONLY\n",
    "    # The states parameter are set to the states that were found in dataset #2 for ease of comparison and consistency\n",
    "    # The limit is set to all as we want to see all of the stations that match our query\n",
    "    # Access parameter is set to public because we want the stations that are accessible by the public\n",
    "    # Lastly, the status parameter is set to E,T, meaning active/temporarily disabled stations, respectively\n",
    "    response = requests.get(\"https://developer.nrel.gov/api/alt-fuel-stations/v1.json?api_key=DEMO_KEY&fuel_type=ELEC&state=CA,CO,FL,MA,MN,NY,OH,TX,WA&limit=all&access=public&status=E,T\")\n",
    "\n",
    "    # Creating the list skeletons that will be used as input for columns in dataframe\n",
    "    stationnames = []\n",
    "    cities = []\n",
    "    states = []\n",
    "    networks = []\n",
    "    pricings = []\n",
    "    opendates = []\n",
    "\n",
    "    # Iterating through the stations from the response in json, then appending each of the responses we want\n",
    "    # to their respective list skeleton\n",
    "    for station in response.json()[\"fuel_stations\"]:\n",
    "      stationnames.append(station[\"station_name\"])\n",
    "      cities.append(station[\"city\"])\n",
    "      states.append(station[\"state\"])\n",
    "      pricings.append(station[\"ev_pricing\"])\n",
    "      opendates.append(station[\"open_date\"])\n",
    "      networks.append(station[\"ev_network\"])\n",
    "\n",
    "    # Creating an empty dataframe\n",
    "    df = pd.DataFrame()\n",
    "\n",
    "    # Adding columns to the dataframe through the filled list skeletons\n",
    "    df[\"Station Name\"] = stationnames\n",
    "    df[\"City\"] = cities\n",
    "    df[\"State\"] = states\n",
    "    df[\"Network\"] = networks\n",
    "    df[\"Pricing\"] = pricings\n",
    "    df[\"Open Date\"] = opendates\n",
    "\n",
    "    # Eliminating the stations that have an opening date before year 2000\n",
    "    df = df[df['Open Date'].astype(str).str.startswith('2')]\n",
    "\n",
    "    # Setting the opening date column to type datetime in order to sort\n",
    "    df[\"Open Date\"] = pd.to_datetime(df[\"Open Date\"])\n",
    "\n",
    "    # Sorting the rows by the open date of each station\n",
    "    df.sort_values('Open Date', inplace=True)\n",
    "\n",
    "    # Renaming the entries that have no cost as \"Free\" using np.where\n",
    "    df[\"Pricing\"] = np.where(pd.isna(df[\"Pricing\"]), \"Free\", df[\"Pricing\"])\n",
    "\n",
    "    # Writing the dataframe to a csv file\n",
    "    df.to_csv(\"updatedelectricstations.csv\", index = True)\n",
    "\n",
    "    return df\n",
    "\n",
    "############ Function Call ############\n",
    "web_parser2()"
   ]
  },
  {
   "cell_type": "markdown",
   "metadata": {
    "id": "E5IgIeLI9Kw2"
   },
   "source": [
    "#Inconsistency Revisions\n",
    " **If you were requested to revise your inconsistency section from Phase II, enter your responses here. Otherwise, ignore this section.**\n",
    "\n",
    "For each inconsistency (NaN, null, duplicate values, empty strings, etc.) you discover in your datasets, write at least 2 sentences stating the significance, how you identified it, and how you handled it.\n",
    "\n",
    "1. \n",
    "\n",
    "2. \n",
    "\n",
    "3. \n",
    "\n",
    "4. (if applicable)\n",
    "\n",
    "5. (if applicable)\n"
   ]
  },
  {
   "cell_type": "markdown",
   "metadata": {
    "id": "8SQxJGDUs1gw"
   },
   "source": [
    "## Data Sources\n",
    "\n",
    "Include sources (as links) to your datasets. If any of these are different from your sources used in Phase II, please <b>clearly</b> specify.\n",
    "\n",
    "*   Downloaded Dataset Source:\n",
    "*   Web Collection #1 Source:\n",
    "*   Web Collection #2 Source:\n",
    "\n"
   ]
  },
  {
   "cell_type": "markdown",
   "metadata": {
    "id": "A-CWo6kwvFvS"
   },
   "source": [
    "# Data Analysis\n",
    "For the Data Analysis section, you are required to utilize your data to complete the following:\n",
    "\n",
    "*   Create at least 5 insights\n",
    "*   Generate at least 3 data visualizations\n",
    "\n",
    "Create a function for each of the following sections mentioned above. Do not forget to fill out the explanation section for each function. \n",
    "\n",
    "Make sure your data analysis is not too simple. Performing complex aggregation and using modules not taught in class shows effort, which will increase the chance of receiving full credit. "
   ]
  },
  {
   "cell_type": "markdown",
   "metadata": {
    "id": "7GzggCBoxwGA"
   },
   "source": [
    "# Topic Summary\n",
    "\n",
    "Please provide a brief executive summary (5 sentences or less) discussing your topic:"
   ]
  },
  {
   "cell_type": "markdown",
   "metadata": {
    "id": "VWv36q-Owkbi"
   },
   "source": [
    "## Insights"
   ]
  },
  {
   "cell_type": "code",
   "execution_count": 4,
   "metadata": {
    "id": "0J5Z3M84wmaY"
   },
   "outputs": [
    {
     "name": "stdout",
     "output_type": "stream",
     "text": [
      "Electricity saves $1825.51 in fuel annually compared to regular fuel.\n",
      "Electricity saves $2795.68 in fuel annually compared to premium fuel.\n",
      "Electric cars save $7383.47 in overall costs every 5 years compared to regular cars.\n",
      "Electric cars save $11178.49 in overall costs every 5 years compared to premium cars.\n"
     ]
    },
    {
     "data": {
      "text/html": [
       "<div>\n",
       "<style scoped>\n",
       "    .dataframe tbody tr th:only-of-type {\n",
       "        vertical-align: middle;\n",
       "    }\n",
       "\n",
       "    .dataframe tbody tr th {\n",
       "        vertical-align: top;\n",
       "    }\n",
       "\n",
       "    .dataframe thead th {\n",
       "        text-align: right;\n",
       "    }\n",
       "</style>\n",
       "<table border=\"1\" class=\"dataframe\">\n",
       "  <thead>\n",
       "    <tr style=\"text-align: right;\">\n",
       "      <th></th>\n",
       "      <th></th>\n",
       "      <th>Annual Fuel Cost</th>\n",
       "      <th>YouSaveOrSpend</th>\n",
       "    </tr>\n",
       "    <tr>\n",
       "      <th>Year</th>\n",
       "      <th>Fuel Type</th>\n",
       "      <th></th>\n",
       "      <th></th>\n",
       "    </tr>\n",
       "  </thead>\n",
       "  <tbody>\n",
       "    <tr>\n",
       "      <th rowspan=\"3\" valign=\"top\">2000-2005</th>\n",
       "      <th>Electricity</th>\n",
       "      <td>1155.56</td>\n",
       "      <td>3722.22</td>\n",
       "    </tr>\n",
       "    <tr>\n",
       "      <th>Premium</th>\n",
       "      <td>3916.61</td>\n",
       "      <td>-10083.03</td>\n",
       "    </tr>\n",
       "    <tr>\n",
       "      <th>Regular</th>\n",
       "      <td>3036.72</td>\n",
       "      <td>-5683.61</td>\n",
       "    </tr>\n",
       "    <tr>\n",
       "      <th rowspan=\"3\" valign=\"top\">2005-2010</th>\n",
       "      <th>Electricity</th>\n",
       "      <td>700.00</td>\n",
       "      <td>6000.00</td>\n",
       "    </tr>\n",
       "    <tr>\n",
       "      <th>Premium</th>\n",
       "      <td>3909.97</td>\n",
       "      <td>-10049.85</td>\n",
       "    </tr>\n",
       "    <tr>\n",
       "      <th>Regular</th>\n",
       "      <td>2894.50</td>\n",
       "      <td>-4972.52</td>\n",
       "    </tr>\n",
       "    <tr>\n",
       "      <th rowspan=\"3\" valign=\"top\">2010-2015</th>\n",
       "      <th>Electricity</th>\n",
       "      <td>736.44</td>\n",
       "      <td>5817.80</td>\n",
       "    </tr>\n",
       "    <tr>\n",
       "      <th>Premium</th>\n",
       "      <td>3468.36</td>\n",
       "      <td>-7841.79</td>\n",
       "    </tr>\n",
       "    <tr>\n",
       "      <th>Regular</th>\n",
       "      <td>2552.82</td>\n",
       "      <td>-3264.10</td>\n",
       "    </tr>\n",
       "    <tr>\n",
       "      <th rowspan=\"3\" valign=\"top\">2015-2020</th>\n",
       "      <th>Electricity</th>\n",
       "      <td>692.72</td>\n",
       "      <td>6036.39</td>\n",
       "    </tr>\n",
       "    <tr>\n",
       "      <th>Premium</th>\n",
       "      <td>3311.46</td>\n",
       "      <td>-7057.29</td>\n",
       "    </tr>\n",
       "    <tr>\n",
       "      <th>Regular</th>\n",
       "      <td>2403.41</td>\n",
       "      <td>-2517.06</td>\n",
       "    </tr>\n",
       "    <tr>\n",
       "      <th rowspan=\"3\" valign=\"top\">2020-2024</th>\n",
       "      <th>Electricity</th>\n",
       "      <td>770.83</td>\n",
       "      <td>5645.83</td>\n",
       "    </tr>\n",
       "    <tr>\n",
       "      <th>Premium</th>\n",
       "      <td>3427.57</td>\n",
       "      <td>-7637.87</td>\n",
       "    </tr>\n",
       "    <tr>\n",
       "      <th>Regular</th>\n",
       "      <td>2295.63</td>\n",
       "      <td>-1978.17</td>\n",
       "    </tr>\n",
       "  </tbody>\n",
       "</table>\n",
       "</div>"
      ],
      "text/plain": [
       "                       Annual Fuel Cost  YouSaveOrSpend\n",
       "Year      Fuel Type                                    \n",
       "2000-2005 Electricity           1155.56         3722.22\n",
       "          Premium               3916.61       -10083.03\n",
       "          Regular               3036.72        -5683.61\n",
       "2005-2010 Electricity            700.00         6000.00\n",
       "          Premium               3909.97       -10049.85\n",
       "          Regular               2894.50        -4972.52\n",
       "2010-2015 Electricity            736.44         5817.80\n",
       "          Premium               3468.36        -7841.79\n",
       "          Regular               2552.82        -3264.10\n",
       "2015-2020 Electricity            692.72         6036.39\n",
       "          Premium               3311.46        -7057.29\n",
       "          Regular               2403.41        -2517.06\n",
       "2020-2024 Electricity            770.83         5645.83\n",
       "          Premium               3427.57        -7637.87\n",
       "          Regular               2295.63        -1978.17"
      ]
     },
     "execution_count": 4,
     "metadata": {},
     "output_type": "execute_result"
    }
   ],
   "source": [
    "import requests\n",
    "from bs4 import BeautifulSoup\n",
    "import pandas as pd\n",
    "import numpy as np\n",
    "from pprint import pprint\n",
    "def insight1():\n",
    "    df = pd.read_csv(\"updatedVehicles.csv\")\n",
    "    df = df[[\"Year\", \"Model\", \"Fuel Type\", \"Annual Fuel Cost\", \"YouSaveOrSpend\"]]\n",
    "    df[\"Year\"] = np.where(df[\"Year\"].astype(int) <= 2005, \"2000-2005\",\n",
    "    np.where(df[\"Year\"].astype(int) <= 2010, \"2005-2010\",\n",
    "    np.where(df[\"Year\"].astype(int) <= 2015, \"2010-2015\",\n",
    "    np.where(df[\"Year\"].astype(int) <= 2020, \"2015-2020\",\n",
    "    np.where(df[\"Year\"].astype(int) <= 2024, \"2020-2024\", \"2020-2024\")))))\n",
    "    df = df[(df[\"Fuel Type\"] == \"Premium\") | (df[\"Fuel Type\"] == \"Electricity\") | (df[\"Fuel Type\"] == \"Regular\")]\n",
    "\n",
    "    df = df.groupby([\"Year\", \"Fuel Type\"]).agg({\"Annual Fuel Cost\" : \"mean\", \"YouSaveOrSpend\" : \"mean\"}).round(2)\n",
    "    number = dict(df)\n",
    "    fuelcostdiffR = ((number[\"Annual Fuel Cost\"][\"2000-2005\"][\"Electricity\"] - number[\"Annual Fuel Cost\"][\"2000-2005\"][\"Regular\"])\n",
    "    + (number[\"Annual Fuel Cost\"][\"2005-2010\"][\"Electricity\"] - number[\"Annual Fuel Cost\"][\"2005-2010\"][\"Regular\"])\n",
    "    + (number[\"Annual Fuel Cost\"][\"2010-2015\"][\"Electricity\"] - number[\"Annual Fuel Cost\"][\"2010-2015\"][\"Regular\"])\n",
    "    + (number[\"Annual Fuel Cost\"][\"2015-2020\"][\"Electricity\"] - number[\"Annual Fuel Cost\"][\"2015-2020\"][\"Regular\"])\n",
    "    + (number[\"Annual Fuel Cost\"][\"2020-2024\"][\"Electricity\"] - number[\"Annual Fuel Cost\"][\"2020-2024\"][\"Regular\"])) / 5\n",
    "    fuelcostdiffP = ((number[\"Annual Fuel Cost\"][\"2000-2005\"][\"Electricity\"] - number[\"Annual Fuel Cost\"][\"2000-2005\"][\"Premium\"])\n",
    "    + (number[\"Annual Fuel Cost\"][\"2005-2010\"][\"Electricity\"] - number[\"Annual Fuel Cost\"][\"2005-2010\"][\"Premium\"])\n",
    "    + (number[\"Annual Fuel Cost\"][\"2010-2015\"][\"Electricity\"] - number[\"Annual Fuel Cost\"][\"2010-2015\"][\"Premium\"])\n",
    "    + (number[\"Annual Fuel Cost\"][\"2015-2020\"][\"Electricity\"] - number[\"Annual Fuel Cost\"][\"2015-2020\"][\"Premium\"])\n",
    "    + (number[\"Annual Fuel Cost\"][\"2020-2024\"][\"Electricity\"] - number[\"Annual Fuel Cost\"][\"2020-2024\"][\"Premium\"])) / 5\n",
    "    saveR = ((number[\"YouSaveOrSpend\"][\"2000-2005\"][\"Electricity\"] - number[\"Annual Fuel Cost\"][\"2000-2005\"][\"Regular\"])\n",
    "    + (number[\"YouSaveOrSpend\"][\"2005-2010\"][\"Electricity\"] - number[\"YouSaveOrSpend\"][\"2005-2010\"][\"Regular\"])\n",
    "    + (number[\"YouSaveOrSpend\"][\"2010-2015\"][\"Electricity\"] - number[\"YouSaveOrSpend\"][\"2010-2015\"][\"Regular\"])\n",
    "    + (number[\"YouSaveOrSpend\"][\"2015-2020\"][\"Electricity\"] - number[\"YouSaveOrSpend\"][\"2015-2020\"][\"Regular\"])\n",
    "    + (number[\"YouSaveOrSpend\"][\"2020-2024\"][\"Electricity\"] - number[\"YouSaveOrSpend\"][\"2020-2024\"][\"Regular\"])) / 5\n",
    "    saveP = ((number[\"YouSaveOrSpend\"][\"2000-2005\"][\"Electricity\"] - number[\"Annual Fuel Cost\"][\"2000-2005\"][\"Premium\"])\n",
    "    + (number[\"YouSaveOrSpend\"][\"2005-2010\"][\"Electricity\"] - number[\"YouSaveOrSpend\"][\"2005-2010\"][\"Premium\"])\n",
    "    + (number[\"YouSaveOrSpend\"][\"2010-2015\"][\"Electricity\"] - number[\"YouSaveOrSpend\"][\"2010-2015\"][\"Premium\"])\n",
    "    + (number[\"YouSaveOrSpend\"][\"2015-2020\"][\"Electricity\"] - number[\"YouSaveOrSpend\"][\"2015-2020\"][\"Premium\"])\n",
    "    + (number[\"YouSaveOrSpend\"][\"2020-2024\"][\"Electricity\"] - number[\"YouSaveOrSpend\"][\"2020-2024\"][\"Premium\"])) / 5\n",
    "    print(f\"Electricity saves ${abs(fuelcostdiffR.round(2))} in fuel annually compared to regular fuel.\")\n",
    "    print(f\"Electricity saves ${abs(fuelcostdiffP.round(2))} in fuel annually compared to premium fuel.\")\n",
    "    print(f\"Electric cars save ${saveR.round(2)} in overall costs every 5 years compared to regular cars.\")\n",
    "    print(f\"Electric cars save ${saveP.round(2)} in overall costs every 5 years compared to premium cars.\")\n",
    "    return df\n",
    "\n",
    "\n",
    "\n",
    "\n",
    "############ Function Call ############\n",
    "insight1()"
   ]
  },
  {
   "cell_type": "markdown",
   "metadata": {
    "id": "54oggrpbw6TX"
   },
   "source": [
    "### Insight 1 Explanation\n",
    "\n",
    "Insert explanation here"
   ]
  },
  {
   "cell_type": "code",
   "execution_count": 5,
   "metadata": {
    "id": "mJe4pMRgwuC5"
   },
   "outputs": [
    {
     "data": {
      "text/html": [
       "<div>\n",
       "<style scoped>\n",
       "    .dataframe tbody tr th:only-of-type {\n",
       "        vertical-align: middle;\n",
       "    }\n",
       "\n",
       "    .dataframe tbody tr th {\n",
       "        vertical-align: top;\n",
       "    }\n",
       "\n",
       "    .dataframe thead th {\n",
       "        text-align: right;\n",
       "    }\n",
       "</style>\n",
       "<table border=\"1\" class=\"dataframe\">\n",
       "  <thead>\n",
       "    <tr style=\"text-align: right;\">\n",
       "      <th></th>\n",
       "      <th>Year</th>\n",
       "      <th>Mean Electricity Consumption (kWh/100 miles)</th>\n",
       "      <th>Average MPGe</th>\n",
       "      <th>Average Gas MPG</th>\n",
       "    </tr>\n",
       "  </thead>\n",
       "  <tbody>\n",
       "    <tr>\n",
       "      <th>0</th>\n",
       "      <td>2000</td>\n",
       "      <td>43.50</td>\n",
       "      <td>78.50</td>\n",
       "      <td>18.63</td>\n",
       "    </tr>\n",
       "    <tr>\n",
       "      <th>1</th>\n",
       "      <td>2001</td>\n",
       "      <td>57.75</td>\n",
       "      <td>62.75</td>\n",
       "      <td>18.47</td>\n",
       "    </tr>\n",
       "    <tr>\n",
       "      <th>2</th>\n",
       "      <td>2002</td>\n",
       "      <td>65.00</td>\n",
       "      <td>58.50</td>\n",
       "      <td>18.26</td>\n",
       "    </tr>\n",
       "    <tr>\n",
       "      <th>3</th>\n",
       "      <td>2003</td>\n",
       "      <td>43.00</td>\n",
       "      <td>78.00</td>\n",
       "      <td>17.91</td>\n",
       "    </tr>\n",
       "    <tr>\n",
       "      <th>4</th>\n",
       "      <td>2008</td>\n",
       "      <td>34.00</td>\n",
       "      <td>98.00</td>\n",
       "      <td>18.48</td>\n",
       "    </tr>\n",
       "    <tr>\n",
       "      <th>5</th>\n",
       "      <td>2011</td>\n",
       "      <td>36.25</td>\n",
       "      <td>93.75</td>\n",
       "      <td>19.63</td>\n",
       "    </tr>\n",
       "    <tr>\n",
       "      <th>6</th>\n",
       "      <td>2012</td>\n",
       "      <td>41.50</td>\n",
       "      <td>84.75</td>\n",
       "      <td>20.23</td>\n",
       "    </tr>\n",
       "    <tr>\n",
       "      <th>7</th>\n",
       "      <td>2013</td>\n",
       "      <td>35.29</td>\n",
       "      <td>99.36</td>\n",
       "      <td>20.90</td>\n",
       "    </tr>\n",
       "    <tr>\n",
       "      <th>8</th>\n",
       "      <td>2014</td>\n",
       "      <td>34.53</td>\n",
       "      <td>101.20</td>\n",
       "      <td>21.05</td>\n",
       "    </tr>\n",
       "    <tr>\n",
       "      <th>9</th>\n",
       "      <td>2015</td>\n",
       "      <td>33.02</td>\n",
       "      <td>103.17</td>\n",
       "      <td>21.78</td>\n",
       "    </tr>\n",
       "    <tr>\n",
       "      <th>10</th>\n",
       "      <td>2016</td>\n",
       "      <td>34.11</td>\n",
       "      <td>100.10</td>\n",
       "      <td>21.94</td>\n",
       "    </tr>\n",
       "    <tr>\n",
       "      <th>11</th>\n",
       "      <td>2017</td>\n",
       "      <td>33.05</td>\n",
       "      <td>103.77</td>\n",
       "      <td>22.07</td>\n",
       "    </tr>\n",
       "    <tr>\n",
       "      <th>12</th>\n",
       "      <td>2018</td>\n",
       "      <td>31.81</td>\n",
       "      <td>107.92</td>\n",
       "      <td>22.18</td>\n",
       "    </tr>\n",
       "    <tr>\n",
       "      <th>13</th>\n",
       "      <td>2019</td>\n",
       "      <td>32.02</td>\n",
       "      <td>107.51</td>\n",
       "      <td>22.22</td>\n",
       "    </tr>\n",
       "    <tr>\n",
       "      <th>14</th>\n",
       "      <td>2020</td>\n",
       "      <td>32.90</td>\n",
       "      <td>106.39</td>\n",
       "      <td>22.28</td>\n",
       "    </tr>\n",
       "    <tr>\n",
       "      <th>15</th>\n",
       "      <td>2021</td>\n",
       "      <td>35.52</td>\n",
       "      <td>98.12</td>\n",
       "      <td>22.22</td>\n",
       "    </tr>\n",
       "    <tr>\n",
       "      <th>16</th>\n",
       "      <td>2022</td>\n",
       "      <td>36.50</td>\n",
       "      <td>95.82</td>\n",
       "      <td>22.30</td>\n",
       "    </tr>\n",
       "    <tr>\n",
       "      <th>17</th>\n",
       "      <td>2023</td>\n",
       "      <td>37.13</td>\n",
       "      <td>94.24</td>\n",
       "      <td>21.95</td>\n",
       "    </tr>\n",
       "    <tr>\n",
       "      <th>18</th>\n",
       "      <td>2024</td>\n",
       "      <td>36.83</td>\n",
       "      <td>94.43</td>\n",
       "      <td>22.57</td>\n",
       "    </tr>\n",
       "  </tbody>\n",
       "</table>\n",
       "</div>"
      ],
      "text/plain": [
       "    Year  Mean Electricity Consumption (kWh/100 miles)  Average MPGe  \\\n",
       "0   2000                                         43.50         78.50   \n",
       "1   2001                                         57.75         62.75   \n",
       "2   2002                                         65.00         58.50   \n",
       "3   2003                                         43.00         78.00   \n",
       "4   2008                                         34.00         98.00   \n",
       "5   2011                                         36.25         93.75   \n",
       "6   2012                                         41.50         84.75   \n",
       "7   2013                                         35.29         99.36   \n",
       "8   2014                                         34.53        101.20   \n",
       "9   2015                                         33.02        103.17   \n",
       "10  2016                                         34.11        100.10   \n",
       "11  2017                                         33.05        103.77   \n",
       "12  2018                                         31.81        107.92   \n",
       "13  2019                                         32.02        107.51   \n",
       "14  2020                                         32.90        106.39   \n",
       "15  2021                                         35.52         98.12   \n",
       "16  2022                                         36.50         95.82   \n",
       "17  2023                                         37.13         94.24   \n",
       "18  2024                                         36.83         94.43   \n",
       "\n",
       "    Average Gas MPG  \n",
       "0             18.63  \n",
       "1             18.47  \n",
       "2             18.26  \n",
       "3             17.91  \n",
       "4             18.48  \n",
       "5             19.63  \n",
       "6             20.23  \n",
       "7             20.90  \n",
       "8             21.05  \n",
       "9             21.78  \n",
       "10            21.94  \n",
       "11            22.07  \n",
       "12            22.18  \n",
       "13            22.22  \n",
       "14            22.28  \n",
       "15            22.22  \n",
       "16            22.30  \n",
       "17            21.95  \n",
       "18            22.57  "
      ]
     },
     "execution_count": 5,
     "metadata": {},
     "output_type": "execute_result"
    }
   ],
   "source": [
    "import requests\n",
    "from bs4 import BeautifulSoup\n",
    "import pandas as pd\n",
    "import numpy as np\n",
    "from pprint import pprint\n",
    "import plotly.express as px\n",
    "\n",
    "def insight2():\n",
    "  df = pd.read_csv(\"updatedVehicles.csv\")\n",
    "  ev = df[df['Fuel Type']=='Electricity']\n",
    "  averageEV = ev.groupby('Year')[['Combined Electricity Consumption','Combined MPG']].mean().reset_index().round(2)\n",
    "  averageEV = averageEV.set_index('Year')\n",
    "  averageEV.rename(columns = {'Combined Electricity Consumption': \n",
    "                            'Mean Electricity Consumption (kWh/100 miles)'}, inplace = True)\n",
    "  averageEV.rename(columns = {'Combined MPG': \n",
    "                            'Average MPGe'}, inplace = True)\n",
    "  \n",
    "  gas = df[df['Fuel Type'] != 'Electricity']\n",
    "  averageGas = gas.groupby('Year')['Combined MPG'].mean().reset_index().round(2)\n",
    "  averageGas.rename(columns = {'Combined MPG': 'Average Gas MPG'},inplace = True)\n",
    "  \n",
    "  merge_df = pd.merge(averageEV, averageGas, on=\"Year\")\n",
    "\n",
    "  return merge_df\n",
    "\n",
    "############ Function Call ############\n",
    "insight2()"
   ]
  },
  {
   "cell_type": "markdown",
   "metadata": {
    "id": "P08Se47bxG5d"
   },
   "source": [
    "### Insight 2 Explanation\n",
    "\n",
    "Insert explanation here"
   ]
  },
  {
   "cell_type": "code",
   "execution_count": 6,
   "metadata": {
    "id": "00EurEXJwvxf"
   },
   "outputs": [
    {
     "name": "stderr",
     "output_type": "stream",
     "text": [
      "/var/folders/67/g961msv14fx8jl3zh3wl8qt00000gn/T/ipykernel_59909/3079996436.py:17: FutureWarning: Setting an item of incompatible dtype is deprecated and will raise in a future error of pandas. Value '549.18%' has dtype incompatible with float64, please explicitly cast to a compatible dtype first.\n",
      "  newdf.loc[\"% Increase since 2020\", :] = (round((newdf.loc[\"2020\":\"2023\"].sum(axis=0) / newdf.loc[\"2000\":\"2019\"].sum(axis=0) * 100), 2)).astype(str) + \"%\"\n",
      "/var/folders/67/g961msv14fx8jl3zh3wl8qt00000gn/T/ipykernel_59909/3079996436.py:17: FutureWarning: Setting an item of incompatible dtype is deprecated and will raise in a future error of pandas. Value '309.38%' has dtype incompatible with float64, please explicitly cast to a compatible dtype first.\n",
      "  newdf.loc[\"% Increase since 2020\", :] = (round((newdf.loc[\"2020\":\"2023\"].sum(axis=0) / newdf.loc[\"2000\":\"2019\"].sum(axis=0) * 100), 2)).astype(str) + \"%\"\n",
      "/var/folders/67/g961msv14fx8jl3zh3wl8qt00000gn/T/ipykernel_59909/3079996436.py:17: FutureWarning: Setting an item of incompatible dtype is deprecated and will raise in a future error of pandas. Value '242.57%' has dtype incompatible with float64, please explicitly cast to a compatible dtype first.\n",
      "  newdf.loc[\"% Increase since 2020\", :] = (round((newdf.loc[\"2020\":\"2023\"].sum(axis=0) / newdf.loc[\"2000\":\"2019\"].sum(axis=0) * 100), 2)).astype(str) + \"%\"\n",
      "/var/folders/67/g961msv14fx8jl3zh3wl8qt00000gn/T/ipykernel_59909/3079996436.py:17: FutureWarning: Setting an item of incompatible dtype is deprecated and will raise in a future error of pandas. Value '720.44%' has dtype incompatible with float64, please explicitly cast to a compatible dtype first.\n",
      "  newdf.loc[\"% Increase since 2020\", :] = (round((newdf.loc[\"2020\":\"2023\"].sum(axis=0) / newdf.loc[\"2000\":\"2019\"].sum(axis=0) * 100), 2)).astype(str) + \"%\"\n",
      "/var/folders/67/g961msv14fx8jl3zh3wl8qt00000gn/T/ipykernel_59909/3079996436.py:17: FutureWarning: Setting an item of incompatible dtype is deprecated and will raise in a future error of pandas. Value '221.19%' has dtype incompatible with float64, please explicitly cast to a compatible dtype first.\n",
      "  newdf.loc[\"% Increase since 2020\", :] = (round((newdf.loc[\"2020\":\"2023\"].sum(axis=0) / newdf.loc[\"2000\":\"2019\"].sum(axis=0) * 100), 2)).astype(str) + \"%\"\n",
      "/var/folders/67/g961msv14fx8jl3zh3wl8qt00000gn/T/ipykernel_59909/3079996436.py:17: FutureWarning: Setting an item of incompatible dtype is deprecated and will raise in a future error of pandas. Value '321.44%' has dtype incompatible with float64, please explicitly cast to a compatible dtype first.\n",
      "  newdf.loc[\"% Increase since 2020\", :] = (round((newdf.loc[\"2020\":\"2023\"].sum(axis=0) / newdf.loc[\"2000\":\"2019\"].sum(axis=0) * 100), 2)).astype(str) + \"%\"\n",
      "/var/folders/67/g961msv14fx8jl3zh3wl8qt00000gn/T/ipykernel_59909/3079996436.py:17: FutureWarning: Setting an item of incompatible dtype is deprecated and will raise in a future error of pandas. Value '327.45%' has dtype incompatible with float64, please explicitly cast to a compatible dtype first.\n",
      "  newdf.loc[\"% Increase since 2020\", :] = (round((newdf.loc[\"2020\":\"2023\"].sum(axis=0) / newdf.loc[\"2000\":\"2019\"].sum(axis=0) * 100), 2)).astype(str) + \"%\"\n",
      "/var/folders/67/g961msv14fx8jl3zh3wl8qt00000gn/T/ipykernel_59909/3079996436.py:17: FutureWarning: Setting an item of incompatible dtype is deprecated and will raise in a future error of pandas. Value '304.26%' has dtype incompatible with float64, please explicitly cast to a compatible dtype first.\n",
      "  newdf.loc[\"% Increase since 2020\", :] = (round((newdf.loc[\"2020\":\"2023\"].sum(axis=0) / newdf.loc[\"2000\":\"2019\"].sum(axis=0) * 100), 2)).astype(str) + \"%\"\n",
      "/var/folders/67/g961msv14fx8jl3zh3wl8qt00000gn/T/ipykernel_59909/3079996436.py:17: FutureWarning: Setting an item of incompatible dtype is deprecated and will raise in a future error of pandas. Value '227.62%' has dtype incompatible with float64, please explicitly cast to a compatible dtype first.\n",
      "  newdf.loc[\"% Increase since 2020\", :] = (round((newdf.loc[\"2020\":\"2023\"].sum(axis=0) / newdf.loc[\"2000\":\"2019\"].sum(axis=0) * 100), 2)).astype(str) + \"%\"\n"
     ]
    },
    {
     "data": {
      "text/html": [
       "<div>\n",
       "<style scoped>\n",
       "    .dataframe tbody tr th:only-of-type {\n",
       "        vertical-align: middle;\n",
       "    }\n",
       "\n",
       "    .dataframe tbody tr th {\n",
       "        vertical-align: top;\n",
       "    }\n",
       "\n",
       "    .dataframe thead th {\n",
       "        text-align: right;\n",
       "    }\n",
       "</style>\n",
       "<table border=\"1\" class=\"dataframe\">\n",
       "  <thead>\n",
       "    <tr style=\"text-align: right;\">\n",
       "      <th></th>\n",
       "      <th>CA</th>\n",
       "      <th>CO</th>\n",
       "      <th>FL</th>\n",
       "      <th>MA</th>\n",
       "      <th>MN</th>\n",
       "      <th>NY</th>\n",
       "      <th>OH</th>\n",
       "      <th>TX</th>\n",
       "      <th>WA</th>\n",
       "    </tr>\n",
       "    <tr>\n",
       "      <th>Year</th>\n",
       "      <th></th>\n",
       "      <th></th>\n",
       "      <th></th>\n",
       "      <th></th>\n",
       "      <th></th>\n",
       "      <th></th>\n",
       "      <th></th>\n",
       "      <th></th>\n",
       "      <th></th>\n",
       "    </tr>\n",
       "  </thead>\n",
       "  <tbody>\n",
       "    <tr>\n",
       "      <th>2000</th>\n",
       "      <td>3.0</td>\n",
       "      <td>NaN</td>\n",
       "      <td>NaN</td>\n",
       "      <td>NaN</td>\n",
       "      <td>NaN</td>\n",
       "      <td>NaN</td>\n",
       "      <td>NaN</td>\n",
       "      <td>NaN</td>\n",
       "      <td>NaN</td>\n",
       "    </tr>\n",
       "    <tr>\n",
       "      <th>2002</th>\n",
       "      <td>16.0</td>\n",
       "      <td>NaN</td>\n",
       "      <td>NaN</td>\n",
       "      <td>NaN</td>\n",
       "      <td>NaN</td>\n",
       "      <td>NaN</td>\n",
       "      <td>NaN</td>\n",
       "      <td>NaN</td>\n",
       "      <td>NaN</td>\n",
       "    </tr>\n",
       "    <tr>\n",
       "      <th>2004</th>\n",
       "      <td>13.0</td>\n",
       "      <td>NaN</td>\n",
       "      <td>NaN</td>\n",
       "      <td>NaN</td>\n",
       "      <td>NaN</td>\n",
       "      <td>NaN</td>\n",
       "      <td>NaN</td>\n",
       "      <td>NaN</td>\n",
       "      <td>NaN</td>\n",
       "    </tr>\n",
       "    <tr>\n",
       "      <th>2005</th>\n",
       "      <td>3.0</td>\n",
       "      <td>NaN</td>\n",
       "      <td>NaN</td>\n",
       "      <td>NaN</td>\n",
       "      <td>NaN</td>\n",
       "      <td>NaN</td>\n",
       "      <td>NaN</td>\n",
       "      <td>NaN</td>\n",
       "      <td>NaN</td>\n",
       "    </tr>\n",
       "    <tr>\n",
       "      <th>2006</th>\n",
       "      <td>2.0</td>\n",
       "      <td>NaN</td>\n",
       "      <td>NaN</td>\n",
       "      <td>NaN</td>\n",
       "      <td>NaN</td>\n",
       "      <td>NaN</td>\n",
       "      <td>NaN</td>\n",
       "      <td>NaN</td>\n",
       "      <td>NaN</td>\n",
       "    </tr>\n",
       "    <tr>\n",
       "      <th>2008</th>\n",
       "      <td>14.0</td>\n",
       "      <td>NaN</td>\n",
       "      <td>NaN</td>\n",
       "      <td>NaN</td>\n",
       "      <td>NaN</td>\n",
       "      <td>NaN</td>\n",
       "      <td>NaN</td>\n",
       "      <td>NaN</td>\n",
       "      <td>1.0</td>\n",
       "    </tr>\n",
       "    <tr>\n",
       "      <th>2009</th>\n",
       "      <td>2.0</td>\n",
       "      <td>NaN</td>\n",
       "      <td>NaN</td>\n",
       "      <td>1.0</td>\n",
       "      <td>NaN</td>\n",
       "      <td>NaN</td>\n",
       "      <td>NaN</td>\n",
       "      <td>NaN</td>\n",
       "      <td>NaN</td>\n",
       "    </tr>\n",
       "    <tr>\n",
       "      <th>2010</th>\n",
       "      <td>5.0</td>\n",
       "      <td>1.0</td>\n",
       "      <td>NaN</td>\n",
       "      <td>1.0</td>\n",
       "      <td>NaN</td>\n",
       "      <td>3.0</td>\n",
       "      <td>1.0</td>\n",
       "      <td>1.0</td>\n",
       "      <td>6.0</td>\n",
       "    </tr>\n",
       "    <tr>\n",
       "      <th>2011</th>\n",
       "      <td>115.0</td>\n",
       "      <td>20.0</td>\n",
       "      <td>41.0</td>\n",
       "      <td>4.0</td>\n",
       "      <td>5.0</td>\n",
       "      <td>33.0</td>\n",
       "      <td>8.0</td>\n",
       "      <td>57.0</td>\n",
       "      <td>49.0</td>\n",
       "    </tr>\n",
       "    <tr>\n",
       "      <th>2012</th>\n",
       "      <td>105.0</td>\n",
       "      <td>17.0</td>\n",
       "      <td>76.0</td>\n",
       "      <td>37.0</td>\n",
       "      <td>9.0</td>\n",
       "      <td>10.0</td>\n",
       "      <td>38.0</td>\n",
       "      <td>8.0</td>\n",
       "      <td>45.0</td>\n",
       "    </tr>\n",
       "    <tr>\n",
       "      <th>2013</th>\n",
       "      <td>122.0</td>\n",
       "      <td>16.0</td>\n",
       "      <td>24.0</td>\n",
       "      <td>13.0</td>\n",
       "      <td>18.0</td>\n",
       "      <td>8.0</td>\n",
       "      <td>11.0</td>\n",
       "      <td>10.0</td>\n",
       "      <td>14.0</td>\n",
       "    </tr>\n",
       "    <tr>\n",
       "      <th>2014</th>\n",
       "      <td>218.0</td>\n",
       "      <td>38.0</td>\n",
       "      <td>40.0</td>\n",
       "      <td>27.0</td>\n",
       "      <td>15.0</td>\n",
       "      <td>34.0</td>\n",
       "      <td>21.0</td>\n",
       "      <td>37.0</td>\n",
       "      <td>49.0</td>\n",
       "    </tr>\n",
       "    <tr>\n",
       "      <th>2015</th>\n",
       "      <td>386.0</td>\n",
       "      <td>59.0</td>\n",
       "      <td>101.0</td>\n",
       "      <td>37.0</td>\n",
       "      <td>19.0</td>\n",
       "      <td>89.0</td>\n",
       "      <td>34.0</td>\n",
       "      <td>103.0</td>\n",
       "      <td>74.0</td>\n",
       "    </tr>\n",
       "    <tr>\n",
       "      <th>2016</th>\n",
       "      <td>296.0</td>\n",
       "      <td>50.0</td>\n",
       "      <td>101.0</td>\n",
       "      <td>25.0</td>\n",
       "      <td>21.0</td>\n",
       "      <td>130.0</td>\n",
       "      <td>40.0</td>\n",
       "      <td>97.0</td>\n",
       "      <td>73.0</td>\n",
       "    </tr>\n",
       "    <tr>\n",
       "      <th>2017</th>\n",
       "      <td>269.0</td>\n",
       "      <td>88.0</td>\n",
       "      <td>182.0</td>\n",
       "      <td>20.0</td>\n",
       "      <td>38.0</td>\n",
       "      <td>137.0</td>\n",
       "      <td>54.0</td>\n",
       "      <td>102.0</td>\n",
       "      <td>88.0</td>\n",
       "    </tr>\n",
       "    <tr>\n",
       "      <th>2018</th>\n",
       "      <td>511.0</td>\n",
       "      <td>118.0</td>\n",
       "      <td>200.0</td>\n",
       "      <td>71.0</td>\n",
       "      <td>51.0</td>\n",
       "      <td>173.0</td>\n",
       "      <td>57.0</td>\n",
       "      <td>202.0</td>\n",
       "      <td>123.0</td>\n",
       "    </tr>\n",
       "    <tr>\n",
       "      <th>2019</th>\n",
       "      <td>488.0</td>\n",
       "      <td>126.0</td>\n",
       "      <td>245.0</td>\n",
       "      <td>131.0</td>\n",
       "      <td>60.0</td>\n",
       "      <td>339.0</td>\n",
       "      <td>104.0</td>\n",
       "      <td>181.0</td>\n",
       "      <td>166.0</td>\n",
       "    </tr>\n",
       "    <tr>\n",
       "      <th>2020</th>\n",
       "      <td>2877.0</td>\n",
       "      <td>234.0</td>\n",
       "      <td>317.0</td>\n",
       "      <td>391.0</td>\n",
       "      <td>75.0</td>\n",
       "      <td>565.0</td>\n",
       "      <td>106.0</td>\n",
       "      <td>351.0</td>\n",
       "      <td>187.0</td>\n",
       "    </tr>\n",
       "    <tr>\n",
       "      <th>2021</th>\n",
       "      <td>6059.0</td>\n",
       "      <td>538.0</td>\n",
       "      <td>720.0</td>\n",
       "      <td>1072.0</td>\n",
       "      <td>147.0</td>\n",
       "      <td>944.0</td>\n",
       "      <td>327.0</td>\n",
       "      <td>706.0</td>\n",
       "      <td>515.0</td>\n",
       "    </tr>\n",
       "    <tr>\n",
       "      <th>2022</th>\n",
       "      <td>2686.0</td>\n",
       "      <td>419.0</td>\n",
       "      <td>759.0</td>\n",
       "      <td>573.0</td>\n",
       "      <td>130.0</td>\n",
       "      <td>883.0</td>\n",
       "      <td>391.0</td>\n",
       "      <td>708.0</td>\n",
       "      <td>349.0</td>\n",
       "    </tr>\n",
       "    <tr>\n",
       "      <th>2023</th>\n",
       "      <td>2481.0</td>\n",
       "      <td>458.0</td>\n",
       "      <td>654.0</td>\n",
       "      <td>608.0</td>\n",
       "      <td>170.0</td>\n",
       "      <td>681.0</td>\n",
       "      <td>381.0</td>\n",
       "      <td>663.0</td>\n",
       "      <td>515.0</td>\n",
       "    </tr>\n",
       "    <tr>\n",
       "      <th>2024</th>\n",
       "      <td>179.0</td>\n",
       "      <td>22.0</td>\n",
       "      <td>51.0</td>\n",
       "      <td>39.0</td>\n",
       "      <td>17.0</td>\n",
       "      <td>52.0</td>\n",
       "      <td>15.0</td>\n",
       "      <td>60.0</td>\n",
       "      <td>24.0</td>\n",
       "    </tr>\n",
       "    <tr>\n",
       "      <th>Total</th>\n",
       "      <td>16850.0</td>\n",
       "      <td>2204.0</td>\n",
       "      <td>3511.0</td>\n",
       "      <td>3050.0</td>\n",
       "      <td>775.0</td>\n",
       "      <td>4081.0</td>\n",
       "      <td>1588.0</td>\n",
       "      <td>3286.0</td>\n",
       "      <td>2278.0</td>\n",
       "    </tr>\n",
       "    <tr>\n",
       "      <th>% Increase since 2020</th>\n",
       "      <td>549.18%</td>\n",
       "      <td>309.38%</td>\n",
       "      <td>242.57%</td>\n",
       "      <td>720.44%</td>\n",
       "      <td>221.19%</td>\n",
       "      <td>321.44%</td>\n",
       "      <td>327.45%</td>\n",
       "      <td>304.26%</td>\n",
       "      <td>227.62%</td>\n",
       "    </tr>\n",
       "  </tbody>\n",
       "</table>\n",
       "</div>"
      ],
      "text/plain": [
       "                            CA       CO       FL       MA       MN       NY  \\\n",
       "Year                                                                          \n",
       "2000                       3.0      NaN      NaN      NaN      NaN      NaN   \n",
       "2002                      16.0      NaN      NaN      NaN      NaN      NaN   \n",
       "2004                      13.0      NaN      NaN      NaN      NaN      NaN   \n",
       "2005                       3.0      NaN      NaN      NaN      NaN      NaN   \n",
       "2006                       2.0      NaN      NaN      NaN      NaN      NaN   \n",
       "2008                      14.0      NaN      NaN      NaN      NaN      NaN   \n",
       "2009                       2.0      NaN      NaN      1.0      NaN      NaN   \n",
       "2010                       5.0      1.0      NaN      1.0      NaN      3.0   \n",
       "2011                     115.0     20.0     41.0      4.0      5.0     33.0   \n",
       "2012                     105.0     17.0     76.0     37.0      9.0     10.0   \n",
       "2013                     122.0     16.0     24.0     13.0     18.0      8.0   \n",
       "2014                     218.0     38.0     40.0     27.0     15.0     34.0   \n",
       "2015                     386.0     59.0    101.0     37.0     19.0     89.0   \n",
       "2016                     296.0     50.0    101.0     25.0     21.0    130.0   \n",
       "2017                     269.0     88.0    182.0     20.0     38.0    137.0   \n",
       "2018                     511.0    118.0    200.0     71.0     51.0    173.0   \n",
       "2019                     488.0    126.0    245.0    131.0     60.0    339.0   \n",
       "2020                    2877.0    234.0    317.0    391.0     75.0    565.0   \n",
       "2021                    6059.0    538.0    720.0   1072.0    147.0    944.0   \n",
       "2022                    2686.0    419.0    759.0    573.0    130.0    883.0   \n",
       "2023                    2481.0    458.0    654.0    608.0    170.0    681.0   \n",
       "2024                     179.0     22.0     51.0     39.0     17.0     52.0   \n",
       "Total                  16850.0   2204.0   3511.0   3050.0    775.0   4081.0   \n",
       "% Increase since 2020  549.18%  309.38%  242.57%  720.44%  221.19%  321.44%   \n",
       "\n",
       "                            OH       TX       WA  \n",
       "Year                                              \n",
       "2000                       NaN      NaN      NaN  \n",
       "2002                       NaN      NaN      NaN  \n",
       "2004                       NaN      NaN      NaN  \n",
       "2005                       NaN      NaN      NaN  \n",
       "2006                       NaN      NaN      NaN  \n",
       "2008                       NaN      NaN      1.0  \n",
       "2009                       NaN      NaN      NaN  \n",
       "2010                       1.0      1.0      6.0  \n",
       "2011                       8.0     57.0     49.0  \n",
       "2012                      38.0      8.0     45.0  \n",
       "2013                      11.0     10.0     14.0  \n",
       "2014                      21.0     37.0     49.0  \n",
       "2015                      34.0    103.0     74.0  \n",
       "2016                      40.0     97.0     73.0  \n",
       "2017                      54.0    102.0     88.0  \n",
       "2018                      57.0    202.0    123.0  \n",
       "2019                     104.0    181.0    166.0  \n",
       "2020                     106.0    351.0    187.0  \n",
       "2021                     327.0    706.0    515.0  \n",
       "2022                     391.0    708.0    349.0  \n",
       "2023                     381.0    663.0    515.0  \n",
       "2024                      15.0     60.0     24.0  \n",
       "Total                   1588.0   3286.0   2278.0  \n",
       "% Increase since 2020  327.45%  304.26%  227.62%  "
      ]
     },
     "execution_count": 6,
     "metadata": {},
     "output_type": "execute_result"
    }
   ],
   "source": [
    "import requests\n",
    "from bs4 import BeautifulSoup\n",
    "import pandas as pd\n",
    "import numpy as np\n",
    "from pprint import pprint\n",
    "def insight3():\n",
    "  df = pd.read_csv(\"updatedelectricstations.csv\")\n",
    "  df[\"Open Date\"] =  df[\"Open Date\"].astype(str).str[:4]\n",
    "  df.rename(columns = {\"Open Date\": \"Year\", \"Station Name\": \"Number of Stations Opened\"}, inplace=True)\n",
    "  df = df.groupby([\"State\", \"Year\"]).agg({\"Number of Stations Opened\": \"count\"})\n",
    "  df = dict(df)\n",
    "  states = [\"CA\", \"CO\", \"FL\", \"MA\", \"MN\", \"NY\", \"OH\", \"TX\", \"WA\"]\n",
    "  newdf = pd.DataFrame()\n",
    "  for state in states:\n",
    "    newdf[state] = df[\"Number of Stations Opened\"][state]\n",
    "  newdf.loc[\"Total\", :] = newdf.sum(axis=0)\n",
    "  newdf.loc[\"% Increase since 2020\", :] = (round((newdf.loc[\"2020\":\"2023\"].sum(axis=0) / newdf.loc[\"2000\":\"2019\"].sum(axis=0) * 100), 2)).astype(str) + \"%\"\n",
    "\n",
    "  return newdf\n",
    "\n",
    "\n",
    "\n",
    "\n",
    "\n",
    "\n",
    "\n",
    "############ Function Call ############\n",
    "insight3()"
   ]
  },
  {
   "cell_type": "markdown",
   "metadata": {
    "id": "6QNP4yx2xHkT"
   },
   "source": [
    "### Insight 3 Explanation\n",
    "\n",
    "Insert explanation here"
   ]
  },
  {
   "cell_type": "code",
   "execution_count": 7,
   "metadata": {
    "id": "LUWgj50BwwKN"
   },
   "outputs": [],
   "source": [
    "def insight4():\n",
    "  pass\n",
    "\n",
    "\n",
    "\n",
    "\n",
    "\n",
    "############ Function Call ############\n",
    "insight4()"
   ]
  },
  {
   "cell_type": "markdown",
   "metadata": {
    "id": "4Tv4xPG8xIIh"
   },
   "source": [
    "### Insight 4 Explanation\n",
    "\n",
    "Insert explanation here"
   ]
  },
  {
   "cell_type": "code",
   "execution_count": 8,
   "metadata": {
    "id": "-2YUtUESwwgv"
   },
   "outputs": [
    {
     "name": "stdout",
     "output_type": "stream",
     "text": [
      "Mean Squared Error: 1322.6204048712884\n",
      "R-squared: -0.5198166100215897\n",
      "Coefficients: [ 0.06493566 61.23596529]\n",
      "Intercept: -129.31828878368162\n"
     ]
    },
    {
     "data": {
      "text/html": [
       "<div>\n",
       "<style scoped>\n",
       "    .dataframe tbody tr th:only-of-type {\n",
       "        vertical-align: middle;\n",
       "    }\n",
       "\n",
       "    .dataframe tbody tr th {\n",
       "        vertical-align: top;\n",
       "    }\n",
       "\n",
       "    .dataframe thead th {\n",
       "        text-align: right;\n",
       "    }\n",
       "</style>\n",
       "<table border=\"1\" class=\"dataframe\">\n",
       "  <thead>\n",
       "    <tr style=\"text-align: right;\">\n",
       "      <th></th>\n",
       "      <th>Average TSLA Price</th>\n",
       "      <th>Number of New EV Models</th>\n",
       "      <th>Average Fuel Price in the U.S.</th>\n",
       "      <th>Predicted Number of New EV Models</th>\n",
       "    </tr>\n",
       "  </thead>\n",
       "  <tbody>\n",
       "    <tr>\n",
       "      <th>2015</th>\n",
       "      <td>15.68</td>\n",
       "      <td>18.0</td>\n",
       "      <td>2.55</td>\n",
       "      <td>27.85</td>\n",
       "    </tr>\n",
       "    <tr>\n",
       "      <th>2016</th>\n",
       "      <td>14.12</td>\n",
       "      <td>31.0</td>\n",
       "      <td>2.28</td>\n",
       "      <td>11.22</td>\n",
       "    </tr>\n",
       "    <tr>\n",
       "      <th>2017</th>\n",
       "      <td>20.94</td>\n",
       "      <td>30.0</td>\n",
       "      <td>2.57</td>\n",
       "      <td>29.42</td>\n",
       "    </tr>\n",
       "    <tr>\n",
       "      <th>2018</th>\n",
       "      <td>20.95</td>\n",
       "      <td>24.0</td>\n",
       "      <td>2.86</td>\n",
       "      <td>47.18</td>\n",
       "    </tr>\n",
       "    <tr>\n",
       "      <th>2019</th>\n",
       "      <td>18.47</td>\n",
       "      <td>35.0</td>\n",
       "      <td>2.75</td>\n",
       "      <td>40.28</td>\n",
       "    </tr>\n",
       "    <tr>\n",
       "      <th>2020</th>\n",
       "      <td>105.07</td>\n",
       "      <td>38.0</td>\n",
       "      <td>2.32</td>\n",
       "      <td>19.57</td>\n",
       "    </tr>\n",
       "    <tr>\n",
       "      <th>2021</th>\n",
       "      <td>268.48</td>\n",
       "      <td>51.0</td>\n",
       "      <td>3.15</td>\n",
       "      <td>81.01</td>\n",
       "    </tr>\n",
       "    <tr>\n",
       "      <th>2022</th>\n",
       "      <td>259.37</td>\n",
       "      <td>89.0</td>\n",
       "      <td>4.13</td>\n",
       "      <td>140.43</td>\n",
       "    </tr>\n",
       "    <tr>\n",
       "      <th>2023</th>\n",
       "      <td>218.52</td>\n",
       "      <td>144.0</td>\n",
       "      <td>3.74</td>\n",
       "      <td>113.89</td>\n",
       "    </tr>\n",
       "    <tr>\n",
       "      <th>2024</th>\n",
       "      <td>281.81</td>\n",
       "      <td>NaN</td>\n",
       "      <td>3.84</td>\n",
       "      <td>124.04</td>\n",
       "    </tr>\n",
       "    <tr>\n",
       "      <th>2025</th>\n",
       "      <td>317.25</td>\n",
       "      <td>NaN</td>\n",
       "      <td>4.02</td>\n",
       "      <td>137.50</td>\n",
       "    </tr>\n",
       "  </tbody>\n",
       "</table>\n",
       "</div>"
      ],
      "text/plain": [
       "      Average TSLA Price  Number of New EV Models  \\\n",
       "2015               15.68                     18.0   \n",
       "2016               14.12                     31.0   \n",
       "2017               20.94                     30.0   \n",
       "2018               20.95                     24.0   \n",
       "2019               18.47                     35.0   \n",
       "2020              105.07                     38.0   \n",
       "2021              268.48                     51.0   \n",
       "2022              259.37                     89.0   \n",
       "2023              218.52                    144.0   \n",
       "2024              281.81                      NaN   \n",
       "2025              317.25                      NaN   \n",
       "\n",
       "      Average Fuel Price in the U.S.  Predicted Number of New EV Models  \n",
       "2015                            2.55                              27.85  \n",
       "2016                            2.28                              11.22  \n",
       "2017                            2.57                              29.42  \n",
       "2018                            2.86                              47.18  \n",
       "2019                            2.75                              40.28  \n",
       "2020                            2.32                              19.57  \n",
       "2021                            3.15                              81.01  \n",
       "2022                            4.13                             140.43  \n",
       "2023                            3.74                             113.89  \n",
       "2024                            3.84                             124.04  \n",
       "2025                            4.02                             137.50  "
      ]
     },
     "execution_count": 8,
     "metadata": {},
     "output_type": "execute_result"
    }
   ],
   "source": [
    "from plotly.subplots import make_subplots\n",
    "import plotly.graph_objects as go \n",
    "from sklearn.model_selection import train_test_split\n",
    "from sklearn.linear_model import LinearRegression\n",
    "from sklearn.metrics import mean_squared_error, r2_score\n",
    "import pandas as pd\n",
    "import matplotlib.pyplot as plt\n",
    "\n",
    "def forecast_feature_values(df, feature_name):\n",
    "    \"\"\"Train a linear regression model to forecast a given feature.\"\"\"\n",
    "    X = df.index.values.reshape(-1, 1)  # Year as the predictor\n",
    "    y = df[feature_name]\n",
    "    model = LinearRegression()\n",
    "    model.fit(X, y)\n",
    "    return model\n",
    "\n",
    "def insight5():\n",
    "  df_TSLA = pd.read_csv(\"updatedTSLA.csv\")\n",
    "  df_TSLA['Date'] = pd.to_datetime(df_TSLA['Date'])\n",
    "  df_TSLA['Year'] = df_TSLA['Date'].dt.year\n",
    "  avg_TSLA = df_TSLA.groupby('Year')['Closing Price'].mean().reset_index()\n",
    "  avg_TSLA = avg_TSLA.set_index('Year')\n",
    "\n",
    "  df_vehicles = pd.read_csv(\"updatedVehicles.csv\")\n",
    "  ev = df_vehicles[df_vehicles['AlternativeVehicleType']=='EV']\n",
    "  new_Model = ev.groupby('Year')['Model'].nunique()\n",
    "  \n",
    "  df_fuel = pd.read_csv(\"updatedfuelprices.csv\")\n",
    "  df_fuel['Year'] = df_fuel['Year'].str.strip().astype(int)\n",
    "  df_fuel = df_fuel.set_index('Year')\n",
    "  avg_fuel = df_fuel.mean(axis =1)\n",
    "\n",
    "\n",
    "  combined_df = pd.concat([avg_TSLA, new_Model, avg_fuel],axis=1)\n",
    "  combined_df.columns = ['Average TSLA Price', 'Number of New EV Models', 'Average Fuel Price in the U.S.']\n",
    "  combined_df['Average Fuel Price in the U.S.'] = combined_df['Average Fuel Price in the U.S.']\n",
    "  combined_df = combined_df.dropna()\n",
    "  combined_df = combined_df.round(2)\n",
    "\n",
    "  # Selecting features and target\n",
    "  X = combined_df[['Average TSLA Price', 'Average Fuel Price in the U.S.']]  # Features\n",
    "  y = combined_df['Number of New EV Models']  # Target\n",
    "\n",
    "  # Splitting the data into training and test sets\n",
    "  X_train, X_test, y_train, y_test = train_test_split(X, y, test_size=0.2, random_state=0)\n",
    "\n",
    "  # Creating a model instance\n",
    "  model = LinearRegression()\n",
    "\n",
    "  # Training the model\n",
    "  model.fit(X_train, y_train)\n",
    "\n",
    "  # Predicting\n",
    "  y_pred = model.predict(X_test)\n",
    "\n",
    "  # Evaluating the model\n",
    "  mse = mean_squared_error(y_test, y_pred)\n",
    "  r2 = r2_score(y_test, y_pred)\n",
    "  print(f\"Mean Squared Error: {mse}\")\n",
    "  print(f\"R-squared: {r2}\")\n",
    "\n",
    "  # Optionally, you can also check the model's coefficients and intercept\n",
    "  print(f\"Coefficients: {model.coef_}\")\n",
    "  print(f\"Intercept: {model.intercept_}\")\n",
    "\n",
    "  # Generate predictions for the entire dataset\n",
    "  y_pred_full = model.predict(X)\n",
    "  \n",
    "  # Prepare data for plotting\n",
    "  plot_df = combined_df.copy()\n",
    "  plot_df['Predicted Number of New EV Models'] = y_pred_full\n",
    "  combined_df = pd.concat([combined_df,plot_df],axis = 1).T.drop_duplicates().T.round(2)\n",
    "  \n",
    "    # Forecast feature values\n",
    "  tsla_model = forecast_feature_values(combined_df, 'Average TSLA Price')\n",
    "  fuel_model = forecast_feature_values(combined_df, 'Average Fuel Price in the U.S.')\n",
    "\n",
    "  # Predict features for the next two years\n",
    "  future_years = np.array([[combined_df.index.max() + 1], [combined_df.index.max() + 2]])\n",
    "  predicted_tsla = tsla_model.predict(future_years)\n",
    "  predicted_fuel = fuel_model.predict(future_years)\n",
    "\n",
    "  future_features = pd.DataFrame({\n",
    "      'Average TSLA Price': predicted_tsla.flatten(),\n",
    "      'Average Fuel Price in the U.S.': predicted_fuel.flatten()\n",
    "  }, index=future_years.flatten())\n",
    "\n",
    "    # Use the existing model to predict 'Number of New EV Models'\n",
    "  future_features['Predicted Number of New EV Models'] = model.predict(future_features)\n",
    "\n",
    "    # Append future predictions to the existing DataFrame\n",
    "  final_df = pd.concat([combined_df, future_features.round(2)])\n",
    "\n",
    "  return final_df\n",
    "\n",
    "\n",
    "############ Function Call ############\n",
    "insight5()"
   ]
  },
  {
   "cell_type": "markdown",
   "metadata": {
    "id": "JabcFGP9xIyn"
   },
   "source": [
    "### Insight 5 Explanation\n",
    "\n",
    "Insert explanation here"
   ]
  },
  {
   "cell_type": "markdown",
   "metadata": {
    "id": "xN58r5MNxN4m"
   },
   "source": [
    "## Data Visualizations"
   ]
  },
  {
   "cell_type": "code",
   "execution_count": null,
   "metadata": {},
   "outputs": [],
   "source": []
  },
  {
   "cell_type": "code",
   "execution_count": 9,
   "metadata": {
    "id": "stKXZGSnxS0f"
   },
   "outputs": [
    {
     "data": {
      "application/vnd.plotly.v1+json": {
       "config": {
        "plotlyServerURL": "https://plot.ly"
       },
       "data": [
        {
         "hovertemplate": "Fuel Type=Average MPGe<br>Year=%{x}<br>Average MPG=%{y}<extra></extra>",
         "legendgroup": "Average MPGe",
         "line": {
          "color": "#636efa",
          "dash": "solid"
         },
         "marker": {
          "symbol": "circle"
         },
         "mode": "lines",
         "name": "Average MPGe",
         "orientation": "v",
         "showlegend": true,
         "type": "scatter",
         "x": [
          2000,
          2001,
          2002,
          2003,
          2008,
          2011,
          2012,
          2013,
          2014,
          2015,
          2016,
          2017,
          2018,
          2019,
          2020,
          2021,
          2022,
          2023,
          2024
         ],
         "xaxis": "x",
         "y": [
          78.5,
          62.75,
          58.5,
          78,
          98,
          93.75,
          84.75,
          99.36,
          101.2,
          103.17,
          100.1,
          103.77,
          107.92,
          107.51,
          106.39,
          98.12,
          95.82,
          94.24,
          94.43
         ],
         "yaxis": "y"
        },
        {
         "hovertemplate": "Fuel Type=Average Gas MPG<br>Year=%{x}<br>Average MPG=%{y}<extra></extra>",
         "legendgroup": "Average Gas MPG",
         "line": {
          "color": "#EF553B",
          "dash": "solid"
         },
         "marker": {
          "symbol": "circle"
         },
         "mode": "lines",
         "name": "Average Gas MPG",
         "orientation": "v",
         "showlegend": true,
         "type": "scatter",
         "x": [
          2000,
          2001,
          2002,
          2003,
          2008,
          2011,
          2012,
          2013,
          2014,
          2015,
          2016,
          2017,
          2018,
          2019,
          2020,
          2021,
          2022,
          2023,
          2024
         ],
         "xaxis": "x",
         "y": [
          18.63,
          18.47,
          18.26,
          17.91,
          18.48,
          19.63,
          20.23,
          20.9,
          21.05,
          21.78,
          21.94,
          22.07,
          22.18,
          22.22,
          22.28,
          22.22,
          22.3,
          21.95,
          22.57
         ],
         "yaxis": "y"
        }
       ],
       "layout": {
        "height": 500,
        "legend": {
         "title": {
          "text": "Fuel Type"
         },
         "tracegroupgap": 0
        },
        "template": {
         "data": {
          "bar": [
           {
            "error_x": {
             "color": "#2a3f5f"
            },
            "error_y": {
             "color": "#2a3f5f"
            },
            "marker": {
             "line": {
              "color": "#E5ECF6",
              "width": 0.5
             },
             "pattern": {
              "fillmode": "overlay",
              "size": 10,
              "solidity": 0.2
             }
            },
            "type": "bar"
           }
          ],
          "barpolar": [
           {
            "marker": {
             "line": {
              "color": "#E5ECF6",
              "width": 0.5
             },
             "pattern": {
              "fillmode": "overlay",
              "size": 10,
              "solidity": 0.2
             }
            },
            "type": "barpolar"
           }
          ],
          "carpet": [
           {
            "aaxis": {
             "endlinecolor": "#2a3f5f",
             "gridcolor": "white",
             "linecolor": "white",
             "minorgridcolor": "white",
             "startlinecolor": "#2a3f5f"
            },
            "baxis": {
             "endlinecolor": "#2a3f5f",
             "gridcolor": "white",
             "linecolor": "white",
             "minorgridcolor": "white",
             "startlinecolor": "#2a3f5f"
            },
            "type": "carpet"
           }
          ],
          "choropleth": [
           {
            "colorbar": {
             "outlinewidth": 0,
             "ticks": ""
            },
            "type": "choropleth"
           }
          ],
          "contour": [
           {
            "colorbar": {
             "outlinewidth": 0,
             "ticks": ""
            },
            "colorscale": [
             [
              0,
              "#0d0887"
             ],
             [
              0.1111111111111111,
              "#46039f"
             ],
             [
              0.2222222222222222,
              "#7201a8"
             ],
             [
              0.3333333333333333,
              "#9c179e"
             ],
             [
              0.4444444444444444,
              "#bd3786"
             ],
             [
              0.5555555555555556,
              "#d8576b"
             ],
             [
              0.6666666666666666,
              "#ed7953"
             ],
             [
              0.7777777777777778,
              "#fb9f3a"
             ],
             [
              0.8888888888888888,
              "#fdca26"
             ],
             [
              1,
              "#f0f921"
             ]
            ],
            "type": "contour"
           }
          ],
          "contourcarpet": [
           {
            "colorbar": {
             "outlinewidth": 0,
             "ticks": ""
            },
            "type": "contourcarpet"
           }
          ],
          "heatmap": [
           {
            "colorbar": {
             "outlinewidth": 0,
             "ticks": ""
            },
            "colorscale": [
             [
              0,
              "#0d0887"
             ],
             [
              0.1111111111111111,
              "#46039f"
             ],
             [
              0.2222222222222222,
              "#7201a8"
             ],
             [
              0.3333333333333333,
              "#9c179e"
             ],
             [
              0.4444444444444444,
              "#bd3786"
             ],
             [
              0.5555555555555556,
              "#d8576b"
             ],
             [
              0.6666666666666666,
              "#ed7953"
             ],
             [
              0.7777777777777778,
              "#fb9f3a"
             ],
             [
              0.8888888888888888,
              "#fdca26"
             ],
             [
              1,
              "#f0f921"
             ]
            ],
            "type": "heatmap"
           }
          ],
          "heatmapgl": [
           {
            "colorbar": {
             "outlinewidth": 0,
             "ticks": ""
            },
            "colorscale": [
             [
              0,
              "#0d0887"
             ],
             [
              0.1111111111111111,
              "#46039f"
             ],
             [
              0.2222222222222222,
              "#7201a8"
             ],
             [
              0.3333333333333333,
              "#9c179e"
             ],
             [
              0.4444444444444444,
              "#bd3786"
             ],
             [
              0.5555555555555556,
              "#d8576b"
             ],
             [
              0.6666666666666666,
              "#ed7953"
             ],
             [
              0.7777777777777778,
              "#fb9f3a"
             ],
             [
              0.8888888888888888,
              "#fdca26"
             ],
             [
              1,
              "#f0f921"
             ]
            ],
            "type": "heatmapgl"
           }
          ],
          "histogram": [
           {
            "marker": {
             "pattern": {
              "fillmode": "overlay",
              "size": 10,
              "solidity": 0.2
             }
            },
            "type": "histogram"
           }
          ],
          "histogram2d": [
           {
            "colorbar": {
             "outlinewidth": 0,
             "ticks": ""
            },
            "colorscale": [
             [
              0,
              "#0d0887"
             ],
             [
              0.1111111111111111,
              "#46039f"
             ],
             [
              0.2222222222222222,
              "#7201a8"
             ],
             [
              0.3333333333333333,
              "#9c179e"
             ],
             [
              0.4444444444444444,
              "#bd3786"
             ],
             [
              0.5555555555555556,
              "#d8576b"
             ],
             [
              0.6666666666666666,
              "#ed7953"
             ],
             [
              0.7777777777777778,
              "#fb9f3a"
             ],
             [
              0.8888888888888888,
              "#fdca26"
             ],
             [
              1,
              "#f0f921"
             ]
            ],
            "type": "histogram2d"
           }
          ],
          "histogram2dcontour": [
           {
            "colorbar": {
             "outlinewidth": 0,
             "ticks": ""
            },
            "colorscale": [
             [
              0,
              "#0d0887"
             ],
             [
              0.1111111111111111,
              "#46039f"
             ],
             [
              0.2222222222222222,
              "#7201a8"
             ],
             [
              0.3333333333333333,
              "#9c179e"
             ],
             [
              0.4444444444444444,
              "#bd3786"
             ],
             [
              0.5555555555555556,
              "#d8576b"
             ],
             [
              0.6666666666666666,
              "#ed7953"
             ],
             [
              0.7777777777777778,
              "#fb9f3a"
             ],
             [
              0.8888888888888888,
              "#fdca26"
             ],
             [
              1,
              "#f0f921"
             ]
            ],
            "type": "histogram2dcontour"
           }
          ],
          "mesh3d": [
           {
            "colorbar": {
             "outlinewidth": 0,
             "ticks": ""
            },
            "type": "mesh3d"
           }
          ],
          "parcoords": [
           {
            "line": {
             "colorbar": {
              "outlinewidth": 0,
              "ticks": ""
             }
            },
            "type": "parcoords"
           }
          ],
          "pie": [
           {
            "automargin": true,
            "type": "pie"
           }
          ],
          "scatter": [
           {
            "fillpattern": {
             "fillmode": "overlay",
             "size": 10,
             "solidity": 0.2
            },
            "type": "scatter"
           }
          ],
          "scatter3d": [
           {
            "line": {
             "colorbar": {
              "outlinewidth": 0,
              "ticks": ""
             }
            },
            "marker": {
             "colorbar": {
              "outlinewidth": 0,
              "ticks": ""
             }
            },
            "type": "scatter3d"
           }
          ],
          "scattercarpet": [
           {
            "marker": {
             "colorbar": {
              "outlinewidth": 0,
              "ticks": ""
             }
            },
            "type": "scattercarpet"
           }
          ],
          "scattergeo": [
           {
            "marker": {
             "colorbar": {
              "outlinewidth": 0,
              "ticks": ""
             }
            },
            "type": "scattergeo"
           }
          ],
          "scattergl": [
           {
            "marker": {
             "colorbar": {
              "outlinewidth": 0,
              "ticks": ""
             }
            },
            "type": "scattergl"
           }
          ],
          "scattermapbox": [
           {
            "marker": {
             "colorbar": {
              "outlinewidth": 0,
              "ticks": ""
             }
            },
            "type": "scattermapbox"
           }
          ],
          "scatterpolar": [
           {
            "marker": {
             "colorbar": {
              "outlinewidth": 0,
              "ticks": ""
             }
            },
            "type": "scatterpolar"
           }
          ],
          "scatterpolargl": [
           {
            "marker": {
             "colorbar": {
              "outlinewidth": 0,
              "ticks": ""
             }
            },
            "type": "scatterpolargl"
           }
          ],
          "scatterternary": [
           {
            "marker": {
             "colorbar": {
              "outlinewidth": 0,
              "ticks": ""
             }
            },
            "type": "scatterternary"
           }
          ],
          "surface": [
           {
            "colorbar": {
             "outlinewidth": 0,
             "ticks": ""
            },
            "colorscale": [
             [
              0,
              "#0d0887"
             ],
             [
              0.1111111111111111,
              "#46039f"
             ],
             [
              0.2222222222222222,
              "#7201a8"
             ],
             [
              0.3333333333333333,
              "#9c179e"
             ],
             [
              0.4444444444444444,
              "#bd3786"
             ],
             [
              0.5555555555555556,
              "#d8576b"
             ],
             [
              0.6666666666666666,
              "#ed7953"
             ],
             [
              0.7777777777777778,
              "#fb9f3a"
             ],
             [
              0.8888888888888888,
              "#fdca26"
             ],
             [
              1,
              "#f0f921"
             ]
            ],
            "type": "surface"
           }
          ],
          "table": [
           {
            "cells": {
             "fill": {
              "color": "#EBF0F8"
             },
             "line": {
              "color": "white"
             }
            },
            "header": {
             "fill": {
              "color": "#C8D4E3"
             },
             "line": {
              "color": "white"
             }
            },
            "type": "table"
           }
          ]
         },
         "layout": {
          "annotationdefaults": {
           "arrowcolor": "#2a3f5f",
           "arrowhead": 0,
           "arrowwidth": 1
          },
          "autotypenumbers": "strict",
          "coloraxis": {
           "colorbar": {
            "outlinewidth": 0,
            "ticks": ""
           }
          },
          "colorscale": {
           "diverging": [
            [
             0,
             "#8e0152"
            ],
            [
             0.1,
             "#c51b7d"
            ],
            [
             0.2,
             "#de77ae"
            ],
            [
             0.3,
             "#f1b6da"
            ],
            [
             0.4,
             "#fde0ef"
            ],
            [
             0.5,
             "#f7f7f7"
            ],
            [
             0.6,
             "#e6f5d0"
            ],
            [
             0.7,
             "#b8e186"
            ],
            [
             0.8,
             "#7fbc41"
            ],
            [
             0.9,
             "#4d9221"
            ],
            [
             1,
             "#276419"
            ]
           ],
           "sequential": [
            [
             0,
             "#0d0887"
            ],
            [
             0.1111111111111111,
             "#46039f"
            ],
            [
             0.2222222222222222,
             "#7201a8"
            ],
            [
             0.3333333333333333,
             "#9c179e"
            ],
            [
             0.4444444444444444,
             "#bd3786"
            ],
            [
             0.5555555555555556,
             "#d8576b"
            ],
            [
             0.6666666666666666,
             "#ed7953"
            ],
            [
             0.7777777777777778,
             "#fb9f3a"
            ],
            [
             0.8888888888888888,
             "#fdca26"
            ],
            [
             1,
             "#f0f921"
            ]
           ],
           "sequentialminus": [
            [
             0,
             "#0d0887"
            ],
            [
             0.1111111111111111,
             "#46039f"
            ],
            [
             0.2222222222222222,
             "#7201a8"
            ],
            [
             0.3333333333333333,
             "#9c179e"
            ],
            [
             0.4444444444444444,
             "#bd3786"
            ],
            [
             0.5555555555555556,
             "#d8576b"
            ],
            [
             0.6666666666666666,
             "#ed7953"
            ],
            [
             0.7777777777777778,
             "#fb9f3a"
            ],
            [
             0.8888888888888888,
             "#fdca26"
            ],
            [
             1,
             "#f0f921"
            ]
           ]
          },
          "colorway": [
           "#636efa",
           "#EF553B",
           "#00cc96",
           "#ab63fa",
           "#FFA15A",
           "#19d3f3",
           "#FF6692",
           "#B6E880",
           "#FF97FF",
           "#FECB52"
          ],
          "font": {
           "color": "#2a3f5f"
          },
          "geo": {
           "bgcolor": "white",
           "lakecolor": "white",
           "landcolor": "#E5ECF6",
           "showlakes": true,
           "showland": true,
           "subunitcolor": "white"
          },
          "hoverlabel": {
           "align": "left"
          },
          "hovermode": "closest",
          "mapbox": {
           "style": "light"
          },
          "paper_bgcolor": "white",
          "plot_bgcolor": "#E5ECF6",
          "polar": {
           "angularaxis": {
            "gridcolor": "white",
            "linecolor": "white",
            "ticks": ""
           },
           "bgcolor": "#E5ECF6",
           "radialaxis": {
            "gridcolor": "white",
            "linecolor": "white",
            "ticks": ""
           }
          },
          "scene": {
           "xaxis": {
            "backgroundcolor": "#E5ECF6",
            "gridcolor": "white",
            "gridwidth": 2,
            "linecolor": "white",
            "showbackground": true,
            "ticks": "",
            "zerolinecolor": "white"
           },
           "yaxis": {
            "backgroundcolor": "#E5ECF6",
            "gridcolor": "white",
            "gridwidth": 2,
            "linecolor": "white",
            "showbackground": true,
            "ticks": "",
            "zerolinecolor": "white"
           },
           "zaxis": {
            "backgroundcolor": "#E5ECF6",
            "gridcolor": "white",
            "gridwidth": 2,
            "linecolor": "white",
            "showbackground": true,
            "ticks": "",
            "zerolinecolor": "white"
           }
          },
          "shapedefaults": {
           "line": {
            "color": "#2a3f5f"
           }
          },
          "ternary": {
           "aaxis": {
            "gridcolor": "white",
            "linecolor": "white",
            "ticks": ""
           },
           "baxis": {
            "gridcolor": "white",
            "linecolor": "white",
            "ticks": ""
           },
           "bgcolor": "#E5ECF6",
           "caxis": {
            "gridcolor": "white",
            "linecolor": "white",
            "ticks": ""
           }
          },
          "title": {
           "x": 0.05
          },
          "xaxis": {
           "automargin": true,
           "gridcolor": "white",
           "linecolor": "white",
           "ticks": "",
           "title": {
            "standoff": 15
           },
           "zerolinecolor": "white",
           "zerolinewidth": 2
          },
          "yaxis": {
           "automargin": true,
           "gridcolor": "white",
           "linecolor": "white",
           "ticks": "",
           "title": {
            "standoff": 15
           },
           "zerolinecolor": "white",
           "zerolinewidth": 2
          }
         }
        },
        "title": {
         "text": "Average MPGe vs. Average Gas MPG Over the Years"
        },
        "width": 800,
        "xaxis": {
         "anchor": "y",
         "domain": [
          0,
          1
         ],
         "title": {
          "text": "Year"
         }
        },
        "yaxis": {
         "anchor": "x",
         "domain": [
          0,
          1
         ],
         "title": {
          "text": "Average MPG"
         }
        }
       }
      }
     },
     "metadata": {},
     "output_type": "display_data"
    }
   ],
   "source": [
    "import plotly.express as px\n",
    "def visual1():\n",
    "  # Call the insight2() function to get the merged DataFrame\n",
    "  merged_df = insight2()\n",
    "\n",
    "  # Create a line plot\n",
    "  fig = px.line(merged_df, x='Year', y=['Average MPGe', 'Average Gas MPG'],\n",
    "                title='Average MPGe vs. Average Gas MPG Over the Years',\n",
    "                labels={'value': 'Average MPG', 'variable': 'Fuel Type'},\n",
    "                width=800, height=500)\n",
    "\n",
    "  # Show the plot\n",
    "  fig.show()\n",
    "\n",
    "############ Function Call ############\n",
    "visual1()"
   ]
  },
  {
   "cell_type": "markdown",
   "metadata": {
    "id": "-CDB8hXwxgSB"
   },
   "source": [
    "### Visualization 1 Explanation\n",
    "\n",
    "Insert explanation here"
   ]
  },
  {
   "cell_type": "code",
   "execution_count": 10,
   "metadata": {
    "id": "vACib_mBxW0E"
   },
   "outputs": [],
   "source": [
    "def visual2():\n",
    "  pass\n",
    "\n",
    "\n",
    "\n",
    "\n",
    "\n",
    "############ Function Call ############\n",
    "visual2()"
   ]
  },
  {
   "cell_type": "markdown",
   "metadata": {
    "id": "hbq6zDSuxg3b"
   },
   "source": [
    "### Visualization 2 Explanation\n",
    "\n",
    "Insert explanation here"
   ]
  },
  {
   "cell_type": "code",
   "execution_count": 11,
   "metadata": {
    "id": "mOyKClx1xXOt"
   },
   "outputs": [
    {
     "name": "stdout",
     "output_type": "stream",
     "text": [
      "Mean Squared Error: 1306.6509457851805\n",
      "R-squared: -0.5014661830338185\n",
      "Coefficients: [0.06443394 6.11983183]\n",
      "Intercept: -129.2264090186031\n"
     ]
    },
    {
     "data": {
      "application/vnd.plotly.v1+json": {
       "config": {
        "plotlyServerURL": "https://plot.ly"
       },
       "data": [
        {
         "name": "Average TSLA Price",
         "type": "scatter",
         "x": [
          2015,
          2016,
          2017,
          2018,
          2019,
          2020,
          2021,
          2022,
          2023,
          2024,
          2025
         ],
         "xaxis": "x",
         "y": [
          15.68,
          14.12,
          20.94,
          20.95,
          18.47,
          105.07,
          268.48,
          259.37,
          218.52,
          281.81,
          317.25
         ],
         "yaxis": "y"
        },
        {
         "name": "Actual Number of New EV Models",
         "type": "scatter",
         "x": [
          2015,
          2016,
          2017,
          2018,
          2019,
          2020,
          2021,
          2022,
          2023,
          2024,
          2025
         ],
         "xaxis": "x",
         "y": [
          18,
          31,
          30,
          24,
          35,
          38,
          51,
          89,
          144,
          null,
          null
         ],
         "yaxis": "y2"
        },
        {
         "name": "Average Fuel Price in the U.S. * 10",
         "type": "scatter",
         "x": [
          2015,
          2016,
          2017,
          2018,
          2019,
          2020,
          2021,
          2022,
          2023,
          2024,
          2025
         ],
         "xaxis": "x",
         "y": [
          25.47,
          22.82,
          25.65,
          28.64,
          27.48,
          23.21,
          31.53,
          41.28,
          37.42,
          38.4,
          40.23
         ],
         "yaxis": "y2"
        },
        {
         "line": {
          "dash": "dash"
         },
         "mode": "lines+markers",
         "name": "Predicted Number of New EV Models",
         "type": "scatter",
         "x": [
          2015,
          2016,
          2017,
          2018,
          2019,
          2020,
          2021,
          2022,
          2023,
          2024,
          2025
         ],
         "xaxis": "x",
         "y": [
          27.656031805271027,
          11.337960516261404,
          29.09652406460782,
          47.39546556589437,
          40.13666447281673,
          19.58496187764294,
          81.03111300168752,
          140.11248010813532,
          113.85780276042615,
          123.95566575103783,
          137.4088210307397
         ],
         "yaxis": "y2"
        }
       ],
       "layout": {
        "template": {
         "data": {
          "bar": [
           {
            "error_x": {
             "color": "#2a3f5f"
            },
            "error_y": {
             "color": "#2a3f5f"
            },
            "marker": {
             "line": {
              "color": "#E5ECF6",
              "width": 0.5
             },
             "pattern": {
              "fillmode": "overlay",
              "size": 10,
              "solidity": 0.2
             }
            },
            "type": "bar"
           }
          ],
          "barpolar": [
           {
            "marker": {
             "line": {
              "color": "#E5ECF6",
              "width": 0.5
             },
             "pattern": {
              "fillmode": "overlay",
              "size": 10,
              "solidity": 0.2
             }
            },
            "type": "barpolar"
           }
          ],
          "carpet": [
           {
            "aaxis": {
             "endlinecolor": "#2a3f5f",
             "gridcolor": "white",
             "linecolor": "white",
             "minorgridcolor": "white",
             "startlinecolor": "#2a3f5f"
            },
            "baxis": {
             "endlinecolor": "#2a3f5f",
             "gridcolor": "white",
             "linecolor": "white",
             "minorgridcolor": "white",
             "startlinecolor": "#2a3f5f"
            },
            "type": "carpet"
           }
          ],
          "choropleth": [
           {
            "colorbar": {
             "outlinewidth": 0,
             "ticks": ""
            },
            "type": "choropleth"
           }
          ],
          "contour": [
           {
            "colorbar": {
             "outlinewidth": 0,
             "ticks": ""
            },
            "colorscale": [
             [
              0,
              "#0d0887"
             ],
             [
              0.1111111111111111,
              "#46039f"
             ],
             [
              0.2222222222222222,
              "#7201a8"
             ],
             [
              0.3333333333333333,
              "#9c179e"
             ],
             [
              0.4444444444444444,
              "#bd3786"
             ],
             [
              0.5555555555555556,
              "#d8576b"
             ],
             [
              0.6666666666666666,
              "#ed7953"
             ],
             [
              0.7777777777777778,
              "#fb9f3a"
             ],
             [
              0.8888888888888888,
              "#fdca26"
             ],
             [
              1,
              "#f0f921"
             ]
            ],
            "type": "contour"
           }
          ],
          "contourcarpet": [
           {
            "colorbar": {
             "outlinewidth": 0,
             "ticks": ""
            },
            "type": "contourcarpet"
           }
          ],
          "heatmap": [
           {
            "colorbar": {
             "outlinewidth": 0,
             "ticks": ""
            },
            "colorscale": [
             [
              0,
              "#0d0887"
             ],
             [
              0.1111111111111111,
              "#46039f"
             ],
             [
              0.2222222222222222,
              "#7201a8"
             ],
             [
              0.3333333333333333,
              "#9c179e"
             ],
             [
              0.4444444444444444,
              "#bd3786"
             ],
             [
              0.5555555555555556,
              "#d8576b"
             ],
             [
              0.6666666666666666,
              "#ed7953"
             ],
             [
              0.7777777777777778,
              "#fb9f3a"
             ],
             [
              0.8888888888888888,
              "#fdca26"
             ],
             [
              1,
              "#f0f921"
             ]
            ],
            "type": "heatmap"
           }
          ],
          "heatmapgl": [
           {
            "colorbar": {
             "outlinewidth": 0,
             "ticks": ""
            },
            "colorscale": [
             [
              0,
              "#0d0887"
             ],
             [
              0.1111111111111111,
              "#46039f"
             ],
             [
              0.2222222222222222,
              "#7201a8"
             ],
             [
              0.3333333333333333,
              "#9c179e"
             ],
             [
              0.4444444444444444,
              "#bd3786"
             ],
             [
              0.5555555555555556,
              "#d8576b"
             ],
             [
              0.6666666666666666,
              "#ed7953"
             ],
             [
              0.7777777777777778,
              "#fb9f3a"
             ],
             [
              0.8888888888888888,
              "#fdca26"
             ],
             [
              1,
              "#f0f921"
             ]
            ],
            "type": "heatmapgl"
           }
          ],
          "histogram": [
           {
            "marker": {
             "pattern": {
              "fillmode": "overlay",
              "size": 10,
              "solidity": 0.2
             }
            },
            "type": "histogram"
           }
          ],
          "histogram2d": [
           {
            "colorbar": {
             "outlinewidth": 0,
             "ticks": ""
            },
            "colorscale": [
             [
              0,
              "#0d0887"
             ],
             [
              0.1111111111111111,
              "#46039f"
             ],
             [
              0.2222222222222222,
              "#7201a8"
             ],
             [
              0.3333333333333333,
              "#9c179e"
             ],
             [
              0.4444444444444444,
              "#bd3786"
             ],
             [
              0.5555555555555556,
              "#d8576b"
             ],
             [
              0.6666666666666666,
              "#ed7953"
             ],
             [
              0.7777777777777778,
              "#fb9f3a"
             ],
             [
              0.8888888888888888,
              "#fdca26"
             ],
             [
              1,
              "#f0f921"
             ]
            ],
            "type": "histogram2d"
           }
          ],
          "histogram2dcontour": [
           {
            "colorbar": {
             "outlinewidth": 0,
             "ticks": ""
            },
            "colorscale": [
             [
              0,
              "#0d0887"
             ],
             [
              0.1111111111111111,
              "#46039f"
             ],
             [
              0.2222222222222222,
              "#7201a8"
             ],
             [
              0.3333333333333333,
              "#9c179e"
             ],
             [
              0.4444444444444444,
              "#bd3786"
             ],
             [
              0.5555555555555556,
              "#d8576b"
             ],
             [
              0.6666666666666666,
              "#ed7953"
             ],
             [
              0.7777777777777778,
              "#fb9f3a"
             ],
             [
              0.8888888888888888,
              "#fdca26"
             ],
             [
              1,
              "#f0f921"
             ]
            ],
            "type": "histogram2dcontour"
           }
          ],
          "mesh3d": [
           {
            "colorbar": {
             "outlinewidth": 0,
             "ticks": ""
            },
            "type": "mesh3d"
           }
          ],
          "parcoords": [
           {
            "line": {
             "colorbar": {
              "outlinewidth": 0,
              "ticks": ""
             }
            },
            "type": "parcoords"
           }
          ],
          "pie": [
           {
            "automargin": true,
            "type": "pie"
           }
          ],
          "scatter": [
           {
            "fillpattern": {
             "fillmode": "overlay",
             "size": 10,
             "solidity": 0.2
            },
            "type": "scatter"
           }
          ],
          "scatter3d": [
           {
            "line": {
             "colorbar": {
              "outlinewidth": 0,
              "ticks": ""
             }
            },
            "marker": {
             "colorbar": {
              "outlinewidth": 0,
              "ticks": ""
             }
            },
            "type": "scatter3d"
           }
          ],
          "scattercarpet": [
           {
            "marker": {
             "colorbar": {
              "outlinewidth": 0,
              "ticks": ""
             }
            },
            "type": "scattercarpet"
           }
          ],
          "scattergeo": [
           {
            "marker": {
             "colorbar": {
              "outlinewidth": 0,
              "ticks": ""
             }
            },
            "type": "scattergeo"
           }
          ],
          "scattergl": [
           {
            "marker": {
             "colorbar": {
              "outlinewidth": 0,
              "ticks": ""
             }
            },
            "type": "scattergl"
           }
          ],
          "scattermapbox": [
           {
            "marker": {
             "colorbar": {
              "outlinewidth": 0,
              "ticks": ""
             }
            },
            "type": "scattermapbox"
           }
          ],
          "scatterpolar": [
           {
            "marker": {
             "colorbar": {
              "outlinewidth": 0,
              "ticks": ""
             }
            },
            "type": "scatterpolar"
           }
          ],
          "scatterpolargl": [
           {
            "marker": {
             "colorbar": {
              "outlinewidth": 0,
              "ticks": ""
             }
            },
            "type": "scatterpolargl"
           }
          ],
          "scatterternary": [
           {
            "marker": {
             "colorbar": {
              "outlinewidth": 0,
              "ticks": ""
             }
            },
            "type": "scatterternary"
           }
          ],
          "surface": [
           {
            "colorbar": {
             "outlinewidth": 0,
             "ticks": ""
            },
            "colorscale": [
             [
              0,
              "#0d0887"
             ],
             [
              0.1111111111111111,
              "#46039f"
             ],
             [
              0.2222222222222222,
              "#7201a8"
             ],
             [
              0.3333333333333333,
              "#9c179e"
             ],
             [
              0.4444444444444444,
              "#bd3786"
             ],
             [
              0.5555555555555556,
              "#d8576b"
             ],
             [
              0.6666666666666666,
              "#ed7953"
             ],
             [
              0.7777777777777778,
              "#fb9f3a"
             ],
             [
              0.8888888888888888,
              "#fdca26"
             ],
             [
              1,
              "#f0f921"
             ]
            ],
            "type": "surface"
           }
          ],
          "table": [
           {
            "cells": {
             "fill": {
              "color": "#EBF0F8"
             },
             "line": {
              "color": "white"
             }
            },
            "header": {
             "fill": {
              "color": "#C8D4E3"
             },
             "line": {
              "color": "white"
             }
            },
            "type": "table"
           }
          ]
         },
         "layout": {
          "annotationdefaults": {
           "arrowcolor": "#2a3f5f",
           "arrowhead": 0,
           "arrowwidth": 1
          },
          "autotypenumbers": "strict",
          "coloraxis": {
           "colorbar": {
            "outlinewidth": 0,
            "ticks": ""
           }
          },
          "colorscale": {
           "diverging": [
            [
             0,
             "#8e0152"
            ],
            [
             0.1,
             "#c51b7d"
            ],
            [
             0.2,
             "#de77ae"
            ],
            [
             0.3,
             "#f1b6da"
            ],
            [
             0.4,
             "#fde0ef"
            ],
            [
             0.5,
             "#f7f7f7"
            ],
            [
             0.6,
             "#e6f5d0"
            ],
            [
             0.7,
             "#b8e186"
            ],
            [
             0.8,
             "#7fbc41"
            ],
            [
             0.9,
             "#4d9221"
            ],
            [
             1,
             "#276419"
            ]
           ],
           "sequential": [
            [
             0,
             "#0d0887"
            ],
            [
             0.1111111111111111,
             "#46039f"
            ],
            [
             0.2222222222222222,
             "#7201a8"
            ],
            [
             0.3333333333333333,
             "#9c179e"
            ],
            [
             0.4444444444444444,
             "#bd3786"
            ],
            [
             0.5555555555555556,
             "#d8576b"
            ],
            [
             0.6666666666666666,
             "#ed7953"
            ],
            [
             0.7777777777777778,
             "#fb9f3a"
            ],
            [
             0.8888888888888888,
             "#fdca26"
            ],
            [
             1,
             "#f0f921"
            ]
           ],
           "sequentialminus": [
            [
             0,
             "#0d0887"
            ],
            [
             0.1111111111111111,
             "#46039f"
            ],
            [
             0.2222222222222222,
             "#7201a8"
            ],
            [
             0.3333333333333333,
             "#9c179e"
            ],
            [
             0.4444444444444444,
             "#bd3786"
            ],
            [
             0.5555555555555556,
             "#d8576b"
            ],
            [
             0.6666666666666666,
             "#ed7953"
            ],
            [
             0.7777777777777778,
             "#fb9f3a"
            ],
            [
             0.8888888888888888,
             "#fdca26"
            ],
            [
             1,
             "#f0f921"
            ]
           ]
          },
          "colorway": [
           "#636efa",
           "#EF553B",
           "#00cc96",
           "#ab63fa",
           "#FFA15A",
           "#19d3f3",
           "#FF6692",
           "#B6E880",
           "#FF97FF",
           "#FECB52"
          ],
          "font": {
           "color": "#2a3f5f"
          },
          "geo": {
           "bgcolor": "white",
           "lakecolor": "white",
           "landcolor": "#E5ECF6",
           "showlakes": true,
           "showland": true,
           "subunitcolor": "white"
          },
          "hoverlabel": {
           "align": "left"
          },
          "hovermode": "closest",
          "mapbox": {
           "style": "light"
          },
          "paper_bgcolor": "white",
          "plot_bgcolor": "#E5ECF6",
          "polar": {
           "angularaxis": {
            "gridcolor": "white",
            "linecolor": "white",
            "ticks": ""
           },
           "bgcolor": "#E5ECF6",
           "radialaxis": {
            "gridcolor": "white",
            "linecolor": "white",
            "ticks": ""
           }
          },
          "scene": {
           "xaxis": {
            "backgroundcolor": "#E5ECF6",
            "gridcolor": "white",
            "gridwidth": 2,
            "linecolor": "white",
            "showbackground": true,
            "ticks": "",
            "zerolinecolor": "white"
           },
           "yaxis": {
            "backgroundcolor": "#E5ECF6",
            "gridcolor": "white",
            "gridwidth": 2,
            "linecolor": "white",
            "showbackground": true,
            "ticks": "",
            "zerolinecolor": "white"
           },
           "zaxis": {
            "backgroundcolor": "#E5ECF6",
            "gridcolor": "white",
            "gridwidth": 2,
            "linecolor": "white",
            "showbackground": true,
            "ticks": "",
            "zerolinecolor": "white"
           }
          },
          "shapedefaults": {
           "line": {
            "color": "#2a3f5f"
           }
          },
          "ternary": {
           "aaxis": {
            "gridcolor": "white",
            "linecolor": "white",
            "ticks": ""
           },
           "baxis": {
            "gridcolor": "white",
            "linecolor": "white",
            "ticks": ""
           },
           "bgcolor": "#E5ECF6",
           "caxis": {
            "gridcolor": "white",
            "linecolor": "white",
            "ticks": ""
           }
          },
          "title": {
           "x": 0.05
          },
          "xaxis": {
           "automargin": true,
           "gridcolor": "white",
           "linecolor": "white",
           "ticks": "",
           "title": {
            "standoff": 15
           },
           "zerolinecolor": "white",
           "zerolinewidth": 2
          },
          "yaxis": {
           "automargin": true,
           "gridcolor": "white",
           "linecolor": "white",
           "ticks": "",
           "title": {
            "standoff": 15
           },
           "zerolinecolor": "white",
           "zerolinewidth": 2
          }
         }
        },
        "title": {
         "text": "TSLA Price, Actual vs Predicted New EV Models, and Fuel Prices Over Years"
        },
        "xaxis": {
         "anchor": "y",
         "domain": [
          0,
          0.94
         ],
         "title": {
          "text": "Year"
         }
        },
        "yaxis": {
         "anchor": "x",
         "domain": [
          0,
          1
         ],
         "title": {
          "text": "Average TSLA Price / Fuel Price"
         }
        },
        "yaxis2": {
         "anchor": "x",
         "overlaying": "y",
         "side": "right",
         "title": {
          "text": "Number of New EV Models"
         }
        }
       }
      }
     },
     "metadata": {},
     "output_type": "display_data"
    },
    {
     "data": {
      "text/html": [
       "<div>\n",
       "<style scoped>\n",
       "    .dataframe tbody tr th:only-of-type {\n",
       "        vertical-align: middle;\n",
       "    }\n",
       "\n",
       "    .dataframe tbody tr th {\n",
       "        vertical-align: top;\n",
       "    }\n",
       "\n",
       "    .dataframe thead th {\n",
       "        text-align: right;\n",
       "    }\n",
       "</style>\n",
       "<table border=\"1\" class=\"dataframe\">\n",
       "  <thead>\n",
       "    <tr style=\"text-align: right;\">\n",
       "      <th></th>\n",
       "      <th>Average TSLA Price</th>\n",
       "      <th>Number of New EV Models</th>\n",
       "      <th>Average Fuel Price in the U.S.</th>\n",
       "      <th>Predicted Number of New EV Models</th>\n",
       "    </tr>\n",
       "  </thead>\n",
       "  <tbody>\n",
       "    <tr>\n",
       "      <th>2015</th>\n",
       "      <td>15.68</td>\n",
       "      <td>18.0</td>\n",
       "      <td>25.47</td>\n",
       "      <td>27.656032</td>\n",
       "    </tr>\n",
       "    <tr>\n",
       "      <th>2016</th>\n",
       "      <td>14.12</td>\n",
       "      <td>31.0</td>\n",
       "      <td>22.82</td>\n",
       "      <td>11.337961</td>\n",
       "    </tr>\n",
       "    <tr>\n",
       "      <th>2017</th>\n",
       "      <td>20.94</td>\n",
       "      <td>30.0</td>\n",
       "      <td>25.65</td>\n",
       "      <td>29.096524</td>\n",
       "    </tr>\n",
       "    <tr>\n",
       "      <th>2018</th>\n",
       "      <td>20.95</td>\n",
       "      <td>24.0</td>\n",
       "      <td>28.64</td>\n",
       "      <td>47.395466</td>\n",
       "    </tr>\n",
       "    <tr>\n",
       "      <th>2019</th>\n",
       "      <td>18.47</td>\n",
       "      <td>35.0</td>\n",
       "      <td>27.48</td>\n",
       "      <td>40.136664</td>\n",
       "    </tr>\n",
       "    <tr>\n",
       "      <th>2020</th>\n",
       "      <td>105.07</td>\n",
       "      <td>38.0</td>\n",
       "      <td>23.21</td>\n",
       "      <td>19.584962</td>\n",
       "    </tr>\n",
       "    <tr>\n",
       "      <th>2021</th>\n",
       "      <td>268.48</td>\n",
       "      <td>51.0</td>\n",
       "      <td>31.53</td>\n",
       "      <td>81.031113</td>\n",
       "    </tr>\n",
       "    <tr>\n",
       "      <th>2022</th>\n",
       "      <td>259.37</td>\n",
       "      <td>89.0</td>\n",
       "      <td>41.28</td>\n",
       "      <td>140.112480</td>\n",
       "    </tr>\n",
       "    <tr>\n",
       "      <th>2023</th>\n",
       "      <td>218.52</td>\n",
       "      <td>144.0</td>\n",
       "      <td>37.42</td>\n",
       "      <td>113.857803</td>\n",
       "    </tr>\n",
       "    <tr>\n",
       "      <th>2024</th>\n",
       "      <td>281.81</td>\n",
       "      <td>NaN</td>\n",
       "      <td>38.40</td>\n",
       "      <td>123.955666</td>\n",
       "    </tr>\n",
       "    <tr>\n",
       "      <th>2025</th>\n",
       "      <td>317.25</td>\n",
       "      <td>NaN</td>\n",
       "      <td>40.23</td>\n",
       "      <td>137.408821</td>\n",
       "    </tr>\n",
       "  </tbody>\n",
       "</table>\n",
       "</div>"
      ],
      "text/plain": [
       "      Average TSLA Price  Number of New EV Models  \\\n",
       "2015               15.68                     18.0   \n",
       "2016               14.12                     31.0   \n",
       "2017               20.94                     30.0   \n",
       "2018               20.95                     24.0   \n",
       "2019               18.47                     35.0   \n",
       "2020              105.07                     38.0   \n",
       "2021              268.48                     51.0   \n",
       "2022              259.37                     89.0   \n",
       "2023              218.52                    144.0   \n",
       "2024              281.81                      NaN   \n",
       "2025              317.25                      NaN   \n",
       "\n",
       "      Average Fuel Price in the U.S.  Predicted Number of New EV Models  \n",
       "2015                           25.47                          27.656032  \n",
       "2016                           22.82                          11.337961  \n",
       "2017                           25.65                          29.096524  \n",
       "2018                           28.64                          47.395466  \n",
       "2019                           27.48                          40.136664  \n",
       "2020                           23.21                          19.584962  \n",
       "2021                           31.53                          81.031113  \n",
       "2022                           41.28                         140.112480  \n",
       "2023                           37.42                         113.857803  \n",
       "2024                           38.40                         123.955666  \n",
       "2025                           40.23                         137.408821  "
      ]
     },
     "execution_count": 11,
     "metadata": {},
     "output_type": "execute_result"
    }
   ],
   "source": [
    "from plotly.subplots import make_subplots\n",
    "import plotly.graph_objects as go \n",
    "from sklearn.model_selection import train_test_split\n",
    "from sklearn.linear_model import LinearRegression\n",
    "from sklearn.metrics import mean_squared_error, r2_score\n",
    "import pandas as pd\n",
    "import matplotlib.pyplot as plt\n",
    "\n",
    "def forecast_feature_values(df, feature_name):\n",
    "    \"\"\"Train a linear regression model to forecast a given feature.\"\"\"\n",
    "    X = df.index.values.reshape(-1, 1)  # Year as the predictor\n",
    "    y = df[feature_name]\n",
    "    model = LinearRegression()\n",
    "    model.fit(X, y)\n",
    "    return model\n",
    "\n",
    "def visual3():\n",
    "  df_TSLA = pd.read_csv(\"updatedTSLA.csv\")\n",
    "  df_TSLA['Date'] = pd.to_datetime(df_TSLA['Date'])\n",
    "  df_TSLA['Year'] = df_TSLA['Date'].dt.year\n",
    "  avg_TSLA = df_TSLA.groupby('Year')['Closing Price'].mean().reset_index()\n",
    "  avg_TSLA = avg_TSLA.set_index('Year')\n",
    "\n",
    "  df_vehicles = pd.read_csv(\"updatedVehicles.csv\")\n",
    "  ev = df_vehicles[df_vehicles['AlternativeVehicleType']=='EV']\n",
    "  new_Model = ev.groupby('Year')['Model'].nunique()\n",
    "  \n",
    "  df_fuel = pd.read_csv(\"updatedfuelprices.csv\")\n",
    "  df_fuel['Year'] = df_fuel['Year'].str.strip().astype(int)\n",
    "  df_fuel = df_fuel.set_index('Year')\n",
    "  avg_fuel = df_fuel.mean(axis =1)\n",
    "\n",
    "\n",
    "  combined_df = pd.concat([avg_TSLA, new_Model, avg_fuel],axis=1)\n",
    "  combined_df.columns = ['Average TSLA Price', 'Number of New EV Models', 'Average Fuel Price in the U.S.']\n",
    "  combined_df['Average Fuel Price in the U.S.'] = combined_df['Average Fuel Price in the U.S.'] * 10\n",
    "  combined_df = combined_df.dropna()\n",
    "  combined_df = combined_df.round(2)\n",
    " \n",
    "  # Selecting features and target\n",
    "  X = combined_df[['Average TSLA Price', 'Average Fuel Price in the U.S.']]  # Features\n",
    "  y = combined_df['Number of New EV Models']  # Target\n",
    "\n",
    "  # Splitting the data into training and test sets\n",
    "  X_train, X_test, y_train, y_test = train_test_split(X, y, test_size=0.2, random_state=0)\n",
    "\n",
    "  # Creating a model instance\n",
    "  model = LinearRegression()\n",
    "\n",
    "  # Training the model\n",
    "  model.fit(X_train, y_train)\n",
    "\n",
    "  # Predicting\n",
    "  y_pred = model.predict(X_test)\n",
    "\n",
    "  # Evaluating the model\n",
    "  mse = mean_squared_error(y_test, y_pred)\n",
    "  r2 = r2_score(y_test, y_pred)\n",
    "  print(f\"Mean Squared Error: {mse}\")\n",
    "  print(f\"R-squared: {r2}\")\n",
    "\n",
    "  # Optionally, you can also check the model's coefficients and intercept\n",
    "  print(f\"Coefficients: {model.coef_}\")\n",
    "  print(f\"Intercept: {model.intercept_}\")\n",
    "\n",
    "  # Generate predictions for the entire dataset\n",
    "  y_pred_full = model.predict(X)\n",
    "  \n",
    "  # Prepare data for plotting\n",
    "  plot_df = combined_df.copy()\n",
    "  plot_df['Predicted Number of New EV Models'] = y_pred_full\n",
    "  combined_df = pd.concat([combined_df,plot_df],axis = 1).T.drop_duplicates().T.round(2)\n",
    "  \n",
    "    # Forecast feature values\n",
    "  tsla_model = forecast_feature_values(combined_df, 'Average TSLA Price')\n",
    "  fuel_model = forecast_feature_values(combined_df, 'Average Fuel Price in the U.S.')\n",
    "\n",
    "  # Predict features for the next two years\n",
    "  future_years = np.array([[combined_df.index.max() + 1], [combined_df.index.max() + 2]])\n",
    "  predicted_tsla = tsla_model.predict(future_years)\n",
    "  predicted_fuel = fuel_model.predict(future_years)\n",
    "\n",
    "  future_features = pd.DataFrame({\n",
    "      'Average TSLA Price': predicted_tsla.flatten(),\n",
    "      'Average Fuel Price in the U.S.': predicted_fuel.flatten()\n",
    "  }, index=future_years.flatten())\n",
    "\n",
    "    # Use the existing model to predict 'Number of New EV Models'\n",
    "  future_features['Predicted Number of New EV Models'] = model.predict(future_features)\n",
    "\n",
    "    # Append future predictions to the existing DataFrame\n",
    "  final_df = pd.concat([combined_df, future_features.round(2)])\n",
    "\n",
    "  fig = make_subplots(specs=[[{\"secondary_y\": True}]])\n",
    "  # Add traces\n",
    "  fig.add_trace(go.Scatter(x=final_df.index, y=final_df['Average TSLA Price'], name='Average TSLA Price'), secondary_y=False)\n",
    "  fig.add_trace(go.Scatter(x=final_df.index, y=final_df['Number of New EV Models'], name='Number of New EV Models'), secondary_y=True)\n",
    "  fig.add_trace(go.Scatter(x=final_df.index, y=final_df['Average Fuel Price in the U.S.'], name='Average Fuel Price in the U.S. * 10 '), secondary_y=True)\n",
    "  # Add figure title\n",
    "  fig.update_layout(title_text=\"TSLA Price, New EV Models, and Fuel Prices Over Years\")\n",
    "  # Set x-axis title\n",
    "  fig.update_xaxes(title_text=\"Year\")\n",
    "  # Set y-axes titles\n",
    "  fig.update_yaxes(title_text=\"Average TSLA Price\", secondary_y=False, dtick = 50)\n",
    "  fig.update_yaxes(title_text=\"Number of New EV Models / Average Fuel Price * 10\", secondary_y=True, dtick = 10)\n",
    "  # Show the plot\n",
    "\n",
    "  # Generate predictions for the entire dataset and future years\n",
    "  y_pred_full = model.predict(X)\n",
    "    \n",
    "    # Forecast feature values\n",
    "  tsla_model = forecast_feature_values(combined_df, 'Average TSLA Price')\n",
    "  fuel_model = forecast_feature_values(combined_df, 'Average Fuel Price in the U.S.')\n",
    "\n",
    "    # Predict features for the next two years\n",
    "  future_years = np.array([[combined_df.index.max() + 1], [combined_df.index.max() + 2]])\n",
    "  predicted_tsla = tsla_model.predict(future_years)\n",
    "  predicted_fuel = fuel_model.predict(future_years)\n",
    "\n",
    "  future_features = pd.DataFrame({\n",
    "        'Average TSLA Price': predicted_tsla.flatten(),\n",
    "        'Average Fuel Price in the U.S.': predicted_fuel.flatten()\n",
    "  }, index=future_years.flatten())\n",
    "\n",
    "    # Use the existing model to predict 'Number of New EV Models'\n",
    "  future_features['Predicted Number of New EV Models'] = model.predict(future_features)\n",
    "\n",
    "    # Append future predictions to the existing DataFrame\n",
    "  final_df = pd.concat([combined_df, future_features.round(2)])\n",
    "  final_df['Predicted Number of New EV Models'] = pd.concat([pd.Series(y_pred_full, index=combined_df.index), future_features['Predicted Number of New EV Models']])\n",
    "\n",
    "    # Plotting\n",
    "  fig = make_subplots(specs=[[{\"secondary_y\": True}]])\n",
    "    \n",
    "    # Add traces for actual values\n",
    "  fig.add_trace(go.Scatter(x=final_df.index, y=final_df['Average TSLA Price'], name='Average TSLA Price'), secondary_y=False)\n",
    "  fig.add_trace(go.Scatter(x=final_df.index, y=final_df['Number of New EV Models'], name='Actual Number of New EV Models'), secondary_y=True)\n",
    "  fig.add_trace(go.Scatter(x=final_df.index, y=final_df['Average Fuel Price in the U.S.'], name='Average Fuel Price in the U.S. * 10'), secondary_y=True)\n",
    "\n",
    "    # Add trace for predicted values\n",
    "  fig.add_trace(go.Scatter(x=final_df.index, y=final_df['Predicted Number of New EV Models'], name='Predicted Number of New EV Models', mode='lines+markers', line=dict(dash='dash')), secondary_y=True)\n",
    "\n",
    "    # Update plot layout\n",
    "  fig.update_layout(title_text=\"TSLA Price, Actual vs Predicted New EV Models, and Fuel Prices Over Years\")\n",
    "  fig.update_xaxes(title_text=\"Year\")\n",
    "  fig.update_yaxes(title_text=\"Average TSLA Price / Fuel Price\", secondary_y=False)\n",
    "  fig.update_yaxes(title_text=\"Number of New EV Models\", secondary_y=True)\n",
    "\n",
    "    # Show the plot\n",
    "  fig.show()\n",
    "\n",
    "  return final_df\n",
    "\n",
    "\n",
    "############ Function Call ############\n",
    "visual3()"
   ]
  },
  {
   "cell_type": "markdown",
   "metadata": {
    "id": "YLZvX6Plxhhs"
   },
   "source": [
    "### Visualization 3 Explanation\n",
    "\n",
    "Insert explanation here"
   ]
  },
  {
   "cell_type": "markdown",
   "metadata": {
    "id": "kd74HqEPx8zh"
   },
   "source": [
    "# Cited Sources\n",
    "\n",
    "If you used any additional sources to complete your Data Analysis section, list them here:\n",
    "\n",
    "\n",
    "*   Example Module Documentation\n",
    "*   Example Stack Overflow Assistance\n",
    "\n"
   ]
  },
  {
   "cell_type": "markdown",
   "metadata": {
    "id": "iuYbFQplyXK2"
   },
   "source": [
    "# Graphical User Interface (GUI) Implementation\n",
    "If you decide to create a GUI for Phase II, please create a separate Python file (.py) to build your GUI. You must submit both the completed PhaseII.ipynb and your Python GUI file."
   ]
  },
  {
   "cell_type": "markdown",
   "metadata": {
    "id": "mZENd-i9cinj"
   },
   "source": [
    "# Submission\n",
    "\n",
    "Prior to submitting your notebook to Gradescope, be sure to <b>run all functions within this file</b>. We will not run your functions ourselves, so we must see your outputs within this file in order to receive full credit.\n"
   ]
  }
 ],
 "metadata": {
  "colab": {
   "collapsed_sections": [],
   "name": "PhaseIII.ipynb",
   "provenance": []
  },
  "kernelspec": {
   "display_name": "Python 3 (ipykernel)",
   "language": "python",
   "name": "python3"
  },
  "language_info": {
   "codemirror_mode": {
    "name": "ipython",
    "version": 3
   },
   "file_extension": ".py",
   "mimetype": "text/x-python",
   "name": "python",
   "nbconvert_exporter": "python",
   "pygments_lexer": "ipython3",
   "version": "3.11.5"
  }
 },
 "nbformat": 4,
 "nbformat_minor": 1
}
